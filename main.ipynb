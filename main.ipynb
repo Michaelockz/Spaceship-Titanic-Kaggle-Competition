{
 "cells": [
  {
   "cell_type": "code",
   "id": "initial_id",
   "metadata": {
    "collapsed": true,
    "ExecuteTime": {
     "end_time": "2024-05-31T09:50:33.417048Z",
     "start_time": "2024-05-31T09:50:32.242977Z"
    }
   },
   "source": [
    "import numpy as np\n",
    "import pandas as pd"
   ],
   "outputs": [
    {
     "name": "stderr",
     "output_type": "stream",
     "text": [
      "C:\\Users\\micha\\AppData\\Local\\Temp\\ipykernel_17072\\3269992828.py:2: DeprecationWarning: \n",
      "Pyarrow will become a required dependency of pandas in the next major release of pandas (pandas 3.0),\n",
      "(to allow more performant data types, such as the Arrow string type, and better interoperability with other libraries)\n",
      "but was not found to be installed on your system.\n",
      "If this would cause problems for you,\n",
      "please provide us feedback at https://github.com/pandas-dev/pandas/issues/54466\n",
      "        \n",
      "  import pandas as pd\n"
     ]
    }
   ],
   "execution_count": 1
  },
  {
   "metadata": {
    "ExecuteTime": {
     "end_time": "2024-05-31T09:50:38.373572Z",
     "start_time": "2024-05-31T09:50:33.417048Z"
    }
   },
   "cell_type": "code",
   "source": [
    "from sklearnex import patch_sklearn,config_context\n",
    "patch_sklearn()"
   ],
   "id": "4f2a41c49d4ea812",
   "outputs": [
    {
     "name": "stderr",
     "output_type": "stream",
     "text": [
      "Intel(R) Extension for Scikit-learn* enabled (https://github.com/intel/scikit-learn-intelex)\n"
     ]
    }
   ],
   "execution_count": 2
  },
  {
   "metadata": {
    "ExecuteTime": {
     "end_time": "2024-05-31T09:50:38.382748Z",
     "start_time": "2024-05-31T09:50:38.373572Z"
    }
   },
   "cell_type": "code",
   "source": [
    "from sklearn.impute import SimpleImputer\n",
    "from sklearn.compose import ColumnTransformer\n",
    "from sklearn.pipeline import Pipeline\n",
    "from sklearn.preprocessing import StandardScaler, MinMaxScaler, OneHotEncoder,FunctionTransformer\n",
    "from sklearn.model_selection import train_test_split,GridSearchCV,KFold\n",
    "from sklearn.cluster import KMeans"
   ],
   "id": "ab52d06131c8887a",
   "outputs": [],
   "execution_count": 3
  },
  {
   "metadata": {
    "ExecuteTime": {
     "end_time": "2024-05-31T09:50:38.411607Z",
     "start_time": "2024-05-31T09:50:38.382748Z"
    }
   },
   "cell_type": "code",
   "source": "train_df = pd.read_csv('train.csv')",
   "id": "8fe181eefbd7232d",
   "outputs": [],
   "execution_count": 4
  },
  {
   "metadata": {
    "ExecuteTime": {
     "end_time": "2024-05-31T09:50:38.427666Z",
     "start_time": "2024-05-31T09:50:38.412728Z"
    }
   },
   "cell_type": "code",
   "source": "train_df.head()",
   "id": "685e66d4ae3d22fe",
   "outputs": [
    {
     "data": {
      "text/plain": [
       "  PassengerId HomePlanet CryoSleep  Cabin  Destination   Age    VIP  \\\n",
       "0     0001_01     Europa     False  B/0/P  TRAPPIST-1e  39.0  False   \n",
       "1     0002_01      Earth     False  F/0/S  TRAPPIST-1e  24.0  False   \n",
       "2     0003_01     Europa     False  A/0/S  TRAPPIST-1e  58.0   True   \n",
       "3     0003_02     Europa     False  A/0/S  TRAPPIST-1e  33.0  False   \n",
       "4     0004_01      Earth     False  F/1/S  TRAPPIST-1e  16.0  False   \n",
       "\n",
       "   RoomService  FoodCourt  ShoppingMall     Spa  VRDeck               Name  \\\n",
       "0          0.0        0.0           0.0     0.0     0.0    Maham Ofracculy   \n",
       "1        109.0        9.0          25.0   549.0    44.0       Juanna Vines   \n",
       "2         43.0     3576.0           0.0  6715.0    49.0      Altark Susent   \n",
       "3          0.0     1283.0         371.0  3329.0   193.0       Solam Susent   \n",
       "4        303.0       70.0         151.0   565.0     2.0  Willy Santantines   \n",
       "\n",
       "   Transported  \n",
       "0        False  \n",
       "1         True  \n",
       "2        False  \n",
       "3        False  \n",
       "4         True  "
      ],
      "text/html": [
       "<div>\n",
       "<style scoped>\n",
       "    .dataframe tbody tr th:only-of-type {\n",
       "        vertical-align: middle;\n",
       "    }\n",
       "\n",
       "    .dataframe tbody tr th {\n",
       "        vertical-align: top;\n",
       "    }\n",
       "\n",
       "    .dataframe thead th {\n",
       "        text-align: right;\n",
       "    }\n",
       "</style>\n",
       "<table border=\"1\" class=\"dataframe\">\n",
       "  <thead>\n",
       "    <tr style=\"text-align: right;\">\n",
       "      <th></th>\n",
       "      <th>PassengerId</th>\n",
       "      <th>HomePlanet</th>\n",
       "      <th>CryoSleep</th>\n",
       "      <th>Cabin</th>\n",
       "      <th>Destination</th>\n",
       "      <th>Age</th>\n",
       "      <th>VIP</th>\n",
       "      <th>RoomService</th>\n",
       "      <th>FoodCourt</th>\n",
       "      <th>ShoppingMall</th>\n",
       "      <th>Spa</th>\n",
       "      <th>VRDeck</th>\n",
       "      <th>Name</th>\n",
       "      <th>Transported</th>\n",
       "    </tr>\n",
       "  </thead>\n",
       "  <tbody>\n",
       "    <tr>\n",
       "      <th>0</th>\n",
       "      <td>0001_01</td>\n",
       "      <td>Europa</td>\n",
       "      <td>False</td>\n",
       "      <td>B/0/P</td>\n",
       "      <td>TRAPPIST-1e</td>\n",
       "      <td>39.0</td>\n",
       "      <td>False</td>\n",
       "      <td>0.0</td>\n",
       "      <td>0.0</td>\n",
       "      <td>0.0</td>\n",
       "      <td>0.0</td>\n",
       "      <td>0.0</td>\n",
       "      <td>Maham Ofracculy</td>\n",
       "      <td>False</td>\n",
       "    </tr>\n",
       "    <tr>\n",
       "      <th>1</th>\n",
       "      <td>0002_01</td>\n",
       "      <td>Earth</td>\n",
       "      <td>False</td>\n",
       "      <td>F/0/S</td>\n",
       "      <td>TRAPPIST-1e</td>\n",
       "      <td>24.0</td>\n",
       "      <td>False</td>\n",
       "      <td>109.0</td>\n",
       "      <td>9.0</td>\n",
       "      <td>25.0</td>\n",
       "      <td>549.0</td>\n",
       "      <td>44.0</td>\n",
       "      <td>Juanna Vines</td>\n",
       "      <td>True</td>\n",
       "    </tr>\n",
       "    <tr>\n",
       "      <th>2</th>\n",
       "      <td>0003_01</td>\n",
       "      <td>Europa</td>\n",
       "      <td>False</td>\n",
       "      <td>A/0/S</td>\n",
       "      <td>TRAPPIST-1e</td>\n",
       "      <td>58.0</td>\n",
       "      <td>True</td>\n",
       "      <td>43.0</td>\n",
       "      <td>3576.0</td>\n",
       "      <td>0.0</td>\n",
       "      <td>6715.0</td>\n",
       "      <td>49.0</td>\n",
       "      <td>Altark Susent</td>\n",
       "      <td>False</td>\n",
       "    </tr>\n",
       "    <tr>\n",
       "      <th>3</th>\n",
       "      <td>0003_02</td>\n",
       "      <td>Europa</td>\n",
       "      <td>False</td>\n",
       "      <td>A/0/S</td>\n",
       "      <td>TRAPPIST-1e</td>\n",
       "      <td>33.0</td>\n",
       "      <td>False</td>\n",
       "      <td>0.0</td>\n",
       "      <td>1283.0</td>\n",
       "      <td>371.0</td>\n",
       "      <td>3329.0</td>\n",
       "      <td>193.0</td>\n",
       "      <td>Solam Susent</td>\n",
       "      <td>False</td>\n",
       "    </tr>\n",
       "    <tr>\n",
       "      <th>4</th>\n",
       "      <td>0004_01</td>\n",
       "      <td>Earth</td>\n",
       "      <td>False</td>\n",
       "      <td>F/1/S</td>\n",
       "      <td>TRAPPIST-1e</td>\n",
       "      <td>16.0</td>\n",
       "      <td>False</td>\n",
       "      <td>303.0</td>\n",
       "      <td>70.0</td>\n",
       "      <td>151.0</td>\n",
       "      <td>565.0</td>\n",
       "      <td>2.0</td>\n",
       "      <td>Willy Santantines</td>\n",
       "      <td>True</td>\n",
       "    </tr>\n",
       "  </tbody>\n",
       "</table>\n",
       "</div>"
      ]
     },
     "execution_count": 5,
     "metadata": {},
     "output_type": "execute_result"
    }
   ],
   "execution_count": 5
  },
  {
   "metadata": {
    "ExecuteTime": {
     "end_time": "2024-05-31T09:50:38.432676Z",
     "start_time": "2024-05-31T09:50:38.427666Z"
    }
   },
   "cell_type": "code",
   "source": [
    "def percent_missing(df):\n",
    "    missing = df.isna().sum().sort_values(ascending=False)\n",
    "    missing = missing[missing > 0]\n",
    "    return missing * 100 /len(df)"
   ],
   "id": "7a6e5e254c095afd",
   "outputs": [],
   "execution_count": 6
  },
  {
   "metadata": {
    "ExecuteTime": {
     "end_time": "2024-05-31T09:50:38.441054Z",
     "start_time": "2024-05-31T09:50:38.432676Z"
    }
   },
   "cell_type": "code",
   "source": "percent_missing(train_df)",
   "id": "15328ac7e4368e6c",
   "outputs": [
    {
     "data": {
      "text/plain": [
       "CryoSleep       2.496261\n",
       "ShoppingMall    2.392730\n",
       "VIP             2.335212\n",
       "HomePlanet      2.312205\n",
       "Name            2.300702\n",
       "Cabin           2.289198\n",
       "VRDeck          2.162660\n",
       "FoodCourt       2.105142\n",
       "Spa             2.105142\n",
       "Destination     2.093639\n",
       "RoomService     2.082135\n",
       "Age             2.059128\n",
       "dtype: float64"
      ]
     },
     "execution_count": 7,
     "metadata": {},
     "output_type": "execute_result"
    }
   ],
   "execution_count": 7
  },
  {
   "metadata": {
    "ExecuteTime": {
     "end_time": "2024-05-31T09:50:38.448037Z",
     "start_time": "2024-05-31T09:50:38.441054Z"
    }
   },
   "cell_type": "code",
   "source": [
    "X = train_df.drop(\"Transported\",axis=1)\n",
    "y = train_df[\"Transported\"]"
   ],
   "id": "ce2a2724dbf571e",
   "outputs": [],
   "execution_count": 8
  },
  {
   "metadata": {
    "ExecuteTime": {
     "end_time": "2024-05-31T09:50:38.455978Z",
     "start_time": "2024-05-31T09:50:38.448037Z"
    }
   },
   "cell_type": "code",
   "source": [
    "X[\"CryoSleep\"] = X[\"CryoSleep\"].astype(\"str\")\n",
    "X[\"VIP\"] = X[\"VIP\"].astype(\"str\")\n"
   ],
   "id": "22599358ef83987e",
   "outputs": [],
   "execution_count": 9
  },
  {
   "metadata": {
    "ExecuteTime": {
     "end_time": "2024-05-31T09:50:38.463010Z",
     "start_time": "2024-05-31T09:50:38.455978Z"
    }
   },
   "cell_type": "code",
   "source": "X_train, X_val, y_train, y_val = train_test_split(X, y, test_size=0.2,random_state=42)",
   "id": "20a681979ffddf48",
   "outputs": [],
   "execution_count": 10
  },
  {
   "metadata": {
    "ExecuteTime": {
     "end_time": "2024-05-31T09:50:38.470214Z",
     "start_time": "2024-05-31T09:50:38.463010Z"
    }
   },
   "cell_type": "code",
   "source": [
    "cat_columns = X.select_dtypes(include=['object',\"category\"]).columns\n",
    "num_columns = X.select_dtypes(exclude=['object',\"category\"]).columns"
   ],
   "id": "c3382e55e110825b",
   "outputs": [],
   "execution_count": 11
  },
  {
   "metadata": {
    "ExecuteTime": {
     "end_time": "2024-05-31T09:50:38.474234Z",
     "start_time": "2024-05-31T09:50:38.470214Z"
    }
   },
   "cell_type": "code",
   "source": [
    "numeric_transformer = Pipeline([\n",
    "    ('imputer',SimpleImputer(strategy=\"constant\",fill_value=0)),\n",
    "    ('scaler',StandardScaler())\n",
    "])\n",
    "categorical_transformer = Pipeline([\n",
    "    (\"imputer\",SimpleImputer(strategy=\"constant\",fill_value=\"Missing\")),\n",
    "    (\"encoder\",OneHotEncoder(handle_unknown=\"ignore\",sparse_output=False,min_frequency=10,max_categories=10)),\n",
    "])\n"
   ],
   "id": "945b79a001354c11",
   "outputs": [],
   "execution_count": 12
  },
  {
   "metadata": {
    "ExecuteTime": {
     "end_time": "2024-05-31T09:50:38.479168Z",
     "start_time": "2024-05-31T09:50:38.474234Z"
    }
   },
   "cell_type": "code",
   "source": [
    "preprocessor = ColumnTransformer([\n",
    "    (\"num\",numeric_transformer,num_columns),\n",
    "    (\"cat\",categorical_transformer,cat_columns),\n",
    "], remainder=\"passthrough\")"
   ],
   "id": "115e2bb235c873e",
   "outputs": [],
   "execution_count": 13
  },
  {
   "metadata": {
    "ExecuteTime": {
     "end_time": "2024-05-31T09:50:47.662634Z",
     "start_time": "2024-05-31T09:50:38.481308Z"
    }
   },
   "cell_type": "code",
   "source": "X_train_preprocessed = preprocessor.fit_transform(X_train)",
   "id": "a98a8310b34da2b3",
   "outputs": [],
   "execution_count": 14
  },
  {
   "metadata": {
    "ExecuteTime": {
     "end_time": "2024-05-31T09:50:47.667308Z",
     "start_time": "2024-05-31T09:50:47.662634Z"
    }
   },
   "cell_type": "code",
   "source": [
    "from sklearn.linear_model import LogisticRegression\n",
    "from sklearn.ensemble import RandomForestClassifier, AdaBoostClassifier, GradientBoostingClassifier, VotingClassifier,StackingClassifier\n",
    "from sklearn.neighbors import KNeighborsClassifier\n",
    "from sklearn.svm import SVC\n",
    "from sklearn.metrics import classification_report,confusion_matrix"
   ],
   "id": "39255a5848eb39f4",
   "outputs": [],
   "execution_count": 15
  },
  {
   "metadata": {
    "ExecuteTime": {
     "end_time": "2024-05-31T09:50:47.672894Z",
     "start_time": "2024-05-31T09:50:47.667308Z"
    }
   },
   "cell_type": "code",
   "source": [
    "models ={\n",
    "    \"LogisticRegression\": LogisticRegression(max_iter=10000,solver=\"saga\"),\n",
    "    \"RandomForest\":RandomForestClassifier(random_state=42,n_jobs=-2),\n",
    "    \"AdaBoost\":AdaBoostClassifier(random_state=42),\n",
    "    \"GradientBoosting\":GradientBoostingClassifier(random_state=42),\n",
    "    \"KNN\":KNeighborsClassifier(),\n",
    "    \"SVC\":SVC(random_state=42),\n",
    "} "
   ],
   "id": "b058b2e8a08a4070",
   "outputs": [],
   "execution_count": 16
  },
  {
   "metadata": {
    "ExecuteTime": {
     "end_time": "2024-05-31T09:50:47.679953Z",
     "start_time": "2024-05-31T09:50:47.674539Z"
    }
   },
   "cell_type": "code",
   "source": [
    "param_grids = {\n",
    "    \"LogisticRegression\":{\n",
    "        \"penalty\" : ['elasticnet'],\n",
    "        \"l1_ratio\" : [0.05,0.1,0.2,0.4,0.8],\n",
    "        \"C\":[0.1,0.8,1,2,10],\n",
    "    },\n",
    "    \"RandomForest\":{\n",
    "        \"n_estimators\":[68,100,150,200,300,350,400,450,500,600],\n",
    "        # \"min_samples_split\":[2,4,6,8,10],\n",
    "        \"min_samples_split\":[2,4,6,10,12,15],\n",
    "        # \"min_samples_leaf\":[1,2,4,6,8,10],\n",
    "        \"min_samples_leaf\":[2,4,5,6,7],\n",
    "    },\n",
    "    \"AdaBoost\":{\n",
    "        \"n_estimators\":[100,400,500,600,700,750,800],\n",
    "        \"learning_rate\":[0.001,0.01,0.05,0.1],\n",
    "        # \"algorithm\":[\"SAMME.R\",\"SAMME\"],\n",
    "    },\n",
    "    \"GradientBoosting\":{\n",
    "        \"n_estimators\":[80,100,120,140,150,160,170,200,300,400,500,600],\n",
    "        # \"learning_rate\":[0.001,0.01,0.03,0.05,0.08,0.1,1],\n",
    "        \"learning_rate\":[0.03,0.05,0.07,0.08,0.09,0.1,1],\n",
    "        # \"max_depth\":[2,3,4,5,6,10],\n",
    "        \"max_depth\":[3,4,5,6,7,8],\n",
    "    },\n",
    "    \"KNN\":{\n",
    "        \"n_neighbors\":np.arange(2,50),\n",
    "    },\n",
    "    \"SVC\":{\n",
    "        \"C\":[0.01,0.1,1,7,10,15],\n",
    "        # \"kernel\":['linear','poly','rbf'],\n",
    "        \"gamma\":[\"scale\",\"auto\"],\n",
    "    }\n",
    "}"
   ],
   "id": "ac5d245a4f8c10d2",
   "outputs": [],
   "execution_count": 17
  },
  {
   "metadata": {
    "ExecuteTime": {
     "end_time": "2024-05-31T09:50:47.684119Z",
     "start_time": "2024-05-31T09:50:47.679953Z"
    }
   },
   "cell_type": "code",
   "source": "cv = KFold(n_splits=5, random_state=42, shuffle=True)",
   "id": "6dcc068c63389fac",
   "outputs": [],
   "execution_count": 18
  },
  {
   "metadata": {
    "ExecuteTime": {
     "end_time": "2024-05-31T08:19:05.405648Z",
     "start_time": "2024-05-31T08:19:00.014746Z"
    }
   },
   "cell_type": "code",
   "source": [
    "grids = {}\n",
    "for model_name,model in models.items():\n",
    "    grids[model_name] = GridSearchCV(model,param_grids[model_name],cv=cv,n_jobs=-2,scoring='accuracy')\n",
    "    grids[model_name].fit(X_train_preprocessed,y_train)\n",
    "    print(f\"{model_name} best score : {grids[model_name].best_score_}\")\n",
    "    print(f\"{model_name} best params : {grids[model_name].best_params_}\")"
   ],
   "id": "f99cd8d67d39cd71",
   "outputs": [
    {
     "ename": "KeyboardInterrupt",
     "evalue": "",
     "output_type": "error",
     "traceback": [
      "\u001B[1;31m---------------------------------------------------------------------------\u001B[0m",
      "\u001B[1;31mKeyboardInterrupt\u001B[0m                         Traceback (most recent call last)",
      "Cell \u001B[1;32mIn[30], line 4\u001B[0m\n\u001B[0;32m      2\u001B[0m \u001B[38;5;28;01mfor\u001B[39;00m model_name,model \u001B[38;5;129;01min\u001B[39;00m models\u001B[38;5;241m.\u001B[39mitems():\n\u001B[0;32m      3\u001B[0m     grids[model_name] \u001B[38;5;241m=\u001B[39m GridSearchCV(model,param_grids[model_name],cv\u001B[38;5;241m=\u001B[39mcv,n_jobs\u001B[38;5;241m=\u001B[39m\u001B[38;5;241m-\u001B[39m\u001B[38;5;241m2\u001B[39m,scoring\u001B[38;5;241m=\u001B[39m\u001B[38;5;124m'\u001B[39m\u001B[38;5;124maccuracy\u001B[39m\u001B[38;5;124m'\u001B[39m)\n\u001B[1;32m----> 4\u001B[0m     \u001B[43mgrids\u001B[49m\u001B[43m[\u001B[49m\u001B[43mmodel_name\u001B[49m\u001B[43m]\u001B[49m\u001B[38;5;241;43m.\u001B[39;49m\u001B[43mfit\u001B[49m\u001B[43m(\u001B[49m\u001B[43mX_train_preprocessed\u001B[49m\u001B[43m,\u001B[49m\u001B[43my_train\u001B[49m\u001B[43m)\u001B[49m\n\u001B[0;32m      5\u001B[0m     \u001B[38;5;28mprint\u001B[39m(\u001B[38;5;124mf\u001B[39m\u001B[38;5;124m\"\u001B[39m\u001B[38;5;132;01m{\u001B[39;00mmodel_name\u001B[38;5;132;01m}\u001B[39;00m\u001B[38;5;124m best score : \u001B[39m\u001B[38;5;132;01m{\u001B[39;00mgrids[model_name]\u001B[38;5;241m.\u001B[39mbest_score_\u001B[38;5;132;01m}\u001B[39;00m\u001B[38;5;124m\"\u001B[39m)\n\u001B[0;32m      6\u001B[0m     \u001B[38;5;28mprint\u001B[39m(\u001B[38;5;124mf\u001B[39m\u001B[38;5;124m\"\u001B[39m\u001B[38;5;132;01m{\u001B[39;00mmodel_name\u001B[38;5;132;01m}\u001B[39;00m\u001B[38;5;124m best params : \u001B[39m\u001B[38;5;132;01m{\u001B[39;00mgrids[model_name]\u001B[38;5;241m.\u001B[39mbest_params_\u001B[38;5;132;01m}\u001B[39;00m\u001B[38;5;124m\"\u001B[39m)\n",
      "File \u001B[1;32m~\\AppData\\Local\\Programs\\Python\\Python312\\Lib\\site-packages\\sklearn\\base.py:1474\u001B[0m, in \u001B[0;36m_fit_context.<locals>.decorator.<locals>.wrapper\u001B[1;34m(estimator, *args, **kwargs)\u001B[0m\n\u001B[0;32m   1467\u001B[0m     estimator\u001B[38;5;241m.\u001B[39m_validate_params()\n\u001B[0;32m   1469\u001B[0m \u001B[38;5;28;01mwith\u001B[39;00m config_context(\n\u001B[0;32m   1470\u001B[0m     skip_parameter_validation\u001B[38;5;241m=\u001B[39m(\n\u001B[0;32m   1471\u001B[0m         prefer_skip_nested_validation \u001B[38;5;129;01mor\u001B[39;00m global_skip_validation\n\u001B[0;32m   1472\u001B[0m     )\n\u001B[0;32m   1473\u001B[0m ):\n\u001B[1;32m-> 1474\u001B[0m     \u001B[38;5;28;01mreturn\u001B[39;00m \u001B[43mfit_method\u001B[49m\u001B[43m(\u001B[49m\u001B[43mestimator\u001B[49m\u001B[43m,\u001B[49m\u001B[43m \u001B[49m\u001B[38;5;241;43m*\u001B[39;49m\u001B[43margs\u001B[49m\u001B[43m,\u001B[49m\u001B[43m \u001B[49m\u001B[38;5;241;43m*\u001B[39;49m\u001B[38;5;241;43m*\u001B[39;49m\u001B[43mkwargs\u001B[49m\u001B[43m)\u001B[49m\n",
      "File \u001B[1;32m~\\AppData\\Local\\Programs\\Python\\Python312\\Lib\\site-packages\\sklearn\\model_selection\\_search.py:970\u001B[0m, in \u001B[0;36mBaseSearchCV.fit\u001B[1;34m(self, X, y, **params)\u001B[0m\n\u001B[0;32m    964\u001B[0m     results \u001B[38;5;241m=\u001B[39m \u001B[38;5;28mself\u001B[39m\u001B[38;5;241m.\u001B[39m_format_results(\n\u001B[0;32m    965\u001B[0m         all_candidate_params, n_splits, all_out, all_more_results\n\u001B[0;32m    966\u001B[0m     )\n\u001B[0;32m    968\u001B[0m     \u001B[38;5;28;01mreturn\u001B[39;00m results\n\u001B[1;32m--> 970\u001B[0m \u001B[38;5;28;43mself\u001B[39;49m\u001B[38;5;241;43m.\u001B[39;49m\u001B[43m_run_search\u001B[49m\u001B[43m(\u001B[49m\u001B[43mevaluate_candidates\u001B[49m\u001B[43m)\u001B[49m\n\u001B[0;32m    972\u001B[0m \u001B[38;5;66;03m# multimetric is determined here because in the case of a callable\u001B[39;00m\n\u001B[0;32m    973\u001B[0m \u001B[38;5;66;03m# self.scoring the return type is only known after calling\u001B[39;00m\n\u001B[0;32m    974\u001B[0m first_test_score \u001B[38;5;241m=\u001B[39m all_out[\u001B[38;5;241m0\u001B[39m][\u001B[38;5;124m\"\u001B[39m\u001B[38;5;124mtest_scores\u001B[39m\u001B[38;5;124m\"\u001B[39m]\n",
      "File \u001B[1;32m~\\AppData\\Local\\Programs\\Python\\Python312\\Lib\\site-packages\\sklearn\\model_selection\\_search.py:1527\u001B[0m, in \u001B[0;36mGridSearchCV._run_search\u001B[1;34m(self, evaluate_candidates)\u001B[0m\n\u001B[0;32m   1525\u001B[0m \u001B[38;5;28;01mdef\u001B[39;00m \u001B[38;5;21m_run_search\u001B[39m(\u001B[38;5;28mself\u001B[39m, evaluate_candidates):\n\u001B[0;32m   1526\u001B[0m \u001B[38;5;250m    \u001B[39m\u001B[38;5;124;03m\"\"\"Search all candidates in param_grid\"\"\"\u001B[39;00m\n\u001B[1;32m-> 1527\u001B[0m     \u001B[43mevaluate_candidates\u001B[49m\u001B[43m(\u001B[49m\u001B[43mParameterGrid\u001B[49m\u001B[43m(\u001B[49m\u001B[38;5;28;43mself\u001B[39;49m\u001B[38;5;241;43m.\u001B[39;49m\u001B[43mparam_grid\u001B[49m\u001B[43m)\u001B[49m\u001B[43m)\u001B[49m\n",
      "File \u001B[1;32m~\\AppData\\Local\\Programs\\Python\\Python312\\Lib\\site-packages\\sklearn\\model_selection\\_search.py:916\u001B[0m, in \u001B[0;36mBaseSearchCV.fit.<locals>.evaluate_candidates\u001B[1;34m(candidate_params, cv, more_results)\u001B[0m\n\u001B[0;32m    908\u001B[0m \u001B[38;5;28;01mif\u001B[39;00m \u001B[38;5;28mself\u001B[39m\u001B[38;5;241m.\u001B[39mverbose \u001B[38;5;241m>\u001B[39m \u001B[38;5;241m0\u001B[39m:\n\u001B[0;32m    909\u001B[0m     \u001B[38;5;28mprint\u001B[39m(\n\u001B[0;32m    910\u001B[0m         \u001B[38;5;124m\"\u001B[39m\u001B[38;5;124mFitting \u001B[39m\u001B[38;5;132;01m{0}\u001B[39;00m\u001B[38;5;124m folds for each of \u001B[39m\u001B[38;5;132;01m{1}\u001B[39;00m\u001B[38;5;124m candidates,\u001B[39m\u001B[38;5;124m\"\u001B[39m\n\u001B[0;32m    911\u001B[0m         \u001B[38;5;124m\"\u001B[39m\u001B[38;5;124m totalling \u001B[39m\u001B[38;5;132;01m{2}\u001B[39;00m\u001B[38;5;124m fits\u001B[39m\u001B[38;5;124m\"\u001B[39m\u001B[38;5;241m.\u001B[39mformat(\n\u001B[0;32m    912\u001B[0m             n_splits, n_candidates, n_candidates \u001B[38;5;241m*\u001B[39m n_splits\n\u001B[0;32m    913\u001B[0m         )\n\u001B[0;32m    914\u001B[0m     )\n\u001B[1;32m--> 916\u001B[0m out \u001B[38;5;241m=\u001B[39m \u001B[43mparallel\u001B[49m\u001B[43m(\u001B[49m\n\u001B[0;32m    917\u001B[0m \u001B[43m    \u001B[49m\u001B[43mdelayed\u001B[49m\u001B[43m(\u001B[49m\u001B[43m_fit_and_score\u001B[49m\u001B[43m)\u001B[49m\u001B[43m(\u001B[49m\n\u001B[0;32m    918\u001B[0m \u001B[43m        \u001B[49m\u001B[43mclone\u001B[49m\u001B[43m(\u001B[49m\u001B[43mbase_estimator\u001B[49m\u001B[43m)\u001B[49m\u001B[43m,\u001B[49m\n\u001B[0;32m    919\u001B[0m \u001B[43m        \u001B[49m\u001B[43mX\u001B[49m\u001B[43m,\u001B[49m\n\u001B[0;32m    920\u001B[0m \u001B[43m        \u001B[49m\u001B[43my\u001B[49m\u001B[43m,\u001B[49m\n\u001B[0;32m    921\u001B[0m \u001B[43m        \u001B[49m\u001B[43mtrain\u001B[49m\u001B[38;5;241;43m=\u001B[39;49m\u001B[43mtrain\u001B[49m\u001B[43m,\u001B[49m\n\u001B[0;32m    922\u001B[0m \u001B[43m        \u001B[49m\u001B[43mtest\u001B[49m\u001B[38;5;241;43m=\u001B[39;49m\u001B[43mtest\u001B[49m\u001B[43m,\u001B[49m\n\u001B[0;32m    923\u001B[0m \u001B[43m        \u001B[49m\u001B[43mparameters\u001B[49m\u001B[38;5;241;43m=\u001B[39;49m\u001B[43mparameters\u001B[49m\u001B[43m,\u001B[49m\n\u001B[0;32m    924\u001B[0m \u001B[43m        \u001B[49m\u001B[43msplit_progress\u001B[49m\u001B[38;5;241;43m=\u001B[39;49m\u001B[43m(\u001B[49m\u001B[43msplit_idx\u001B[49m\u001B[43m,\u001B[49m\u001B[43m \u001B[49m\u001B[43mn_splits\u001B[49m\u001B[43m)\u001B[49m\u001B[43m,\u001B[49m\n\u001B[0;32m    925\u001B[0m \u001B[43m        \u001B[49m\u001B[43mcandidate_progress\u001B[49m\u001B[38;5;241;43m=\u001B[39;49m\u001B[43m(\u001B[49m\u001B[43mcand_idx\u001B[49m\u001B[43m,\u001B[49m\u001B[43m \u001B[49m\u001B[43mn_candidates\u001B[49m\u001B[43m)\u001B[49m\u001B[43m,\u001B[49m\n\u001B[0;32m    926\u001B[0m \u001B[43m        \u001B[49m\u001B[38;5;241;43m*\u001B[39;49m\u001B[38;5;241;43m*\u001B[39;49m\u001B[43mfit_and_score_kwargs\u001B[49m\u001B[43m,\u001B[49m\n\u001B[0;32m    927\u001B[0m \u001B[43m    \u001B[49m\u001B[43m)\u001B[49m\n\u001B[0;32m    928\u001B[0m \u001B[43m    \u001B[49m\u001B[38;5;28;43;01mfor\u001B[39;49;00m\u001B[43m \u001B[49m\u001B[43m(\u001B[49m\u001B[43mcand_idx\u001B[49m\u001B[43m,\u001B[49m\u001B[43m \u001B[49m\u001B[43mparameters\u001B[49m\u001B[43m)\u001B[49m\u001B[43m,\u001B[49m\u001B[43m \u001B[49m\u001B[43m(\u001B[49m\u001B[43msplit_idx\u001B[49m\u001B[43m,\u001B[49m\u001B[43m \u001B[49m\u001B[43m(\u001B[49m\u001B[43mtrain\u001B[49m\u001B[43m,\u001B[49m\u001B[43m \u001B[49m\u001B[43mtest\u001B[49m\u001B[43m)\u001B[49m\u001B[43m)\u001B[49m\u001B[43m \u001B[49m\u001B[38;5;129;43;01min\u001B[39;49;00m\u001B[43m \u001B[49m\u001B[43mproduct\u001B[49m\u001B[43m(\u001B[49m\n\u001B[0;32m    929\u001B[0m \u001B[43m        \u001B[49m\u001B[38;5;28;43menumerate\u001B[39;49m\u001B[43m(\u001B[49m\u001B[43mcandidate_params\u001B[49m\u001B[43m)\u001B[49m\u001B[43m,\u001B[49m\n\u001B[0;32m    930\u001B[0m \u001B[43m        \u001B[49m\u001B[38;5;28;43menumerate\u001B[39;49m\u001B[43m(\u001B[49m\u001B[43mcv\u001B[49m\u001B[38;5;241;43m.\u001B[39;49m\u001B[43msplit\u001B[49m\u001B[43m(\u001B[49m\u001B[43mX\u001B[49m\u001B[43m,\u001B[49m\u001B[43m \u001B[49m\u001B[43my\u001B[49m\u001B[43m,\u001B[49m\u001B[43m \u001B[49m\u001B[38;5;241;43m*\u001B[39;49m\u001B[38;5;241;43m*\u001B[39;49m\u001B[43mrouted_params\u001B[49m\u001B[38;5;241;43m.\u001B[39;49m\u001B[43msplitter\u001B[49m\u001B[38;5;241;43m.\u001B[39;49m\u001B[43msplit\u001B[49m\u001B[43m)\u001B[49m\u001B[43m)\u001B[49m\u001B[43m,\u001B[49m\n\u001B[0;32m    931\u001B[0m \u001B[43m    \u001B[49m\u001B[43m)\u001B[49m\n\u001B[0;32m    932\u001B[0m \u001B[43m\u001B[49m\u001B[43m)\u001B[49m\n\u001B[0;32m    934\u001B[0m \u001B[38;5;28;01mif\u001B[39;00m \u001B[38;5;28mlen\u001B[39m(out) \u001B[38;5;241m<\u001B[39m \u001B[38;5;241m1\u001B[39m:\n\u001B[0;32m    935\u001B[0m     \u001B[38;5;28;01mraise\u001B[39;00m \u001B[38;5;167;01mValueError\u001B[39;00m(\n\u001B[0;32m    936\u001B[0m         \u001B[38;5;124m\"\u001B[39m\u001B[38;5;124mNo fits were performed. \u001B[39m\u001B[38;5;124m\"\u001B[39m\n\u001B[0;32m    937\u001B[0m         \u001B[38;5;124m\"\u001B[39m\u001B[38;5;124mWas the CV iterator empty? \u001B[39m\u001B[38;5;124m\"\u001B[39m\n\u001B[0;32m    938\u001B[0m         \u001B[38;5;124m\"\u001B[39m\u001B[38;5;124mWere there no candidates?\u001B[39m\u001B[38;5;124m\"\u001B[39m\n\u001B[0;32m    939\u001B[0m     )\n",
      "File \u001B[1;32m~\\AppData\\Local\\Programs\\Python\\Python312\\Lib\\site-packages\\sklearn\\utils\\parallel.py:67\u001B[0m, in \u001B[0;36mParallel.__call__\u001B[1;34m(self, iterable)\u001B[0m\n\u001B[0;32m     62\u001B[0m config \u001B[38;5;241m=\u001B[39m get_config()\n\u001B[0;32m     63\u001B[0m iterable_with_config \u001B[38;5;241m=\u001B[39m (\n\u001B[0;32m     64\u001B[0m     (_with_config(delayed_func, config), args, kwargs)\n\u001B[0;32m     65\u001B[0m     \u001B[38;5;28;01mfor\u001B[39;00m delayed_func, args, kwargs \u001B[38;5;129;01min\u001B[39;00m iterable\n\u001B[0;32m     66\u001B[0m )\n\u001B[1;32m---> 67\u001B[0m \u001B[38;5;28;01mreturn\u001B[39;00m \u001B[38;5;28;43msuper\u001B[39;49m\u001B[43m(\u001B[49m\u001B[43m)\u001B[49m\u001B[38;5;241;43m.\u001B[39;49m\u001B[38;5;21;43m__call__\u001B[39;49m\u001B[43m(\u001B[49m\u001B[43miterable_with_config\u001B[49m\u001B[43m)\u001B[49m\n",
      "File \u001B[1;32m~\\AppData\\Local\\Programs\\Python\\Python312\\Lib\\site-packages\\joblib\\parallel.py:1952\u001B[0m, in \u001B[0;36mParallel.__call__\u001B[1;34m(self, iterable)\u001B[0m\n\u001B[0;32m   1946\u001B[0m \u001B[38;5;66;03m# The first item from the output is blank, but it makes the interpreter\u001B[39;00m\n\u001B[0;32m   1947\u001B[0m \u001B[38;5;66;03m# progress until it enters the Try/Except block of the generator and\u001B[39;00m\n\u001B[0;32m   1948\u001B[0m \u001B[38;5;66;03m# reach the first `yield` statement. This starts the aynchronous\u001B[39;00m\n\u001B[0;32m   1949\u001B[0m \u001B[38;5;66;03m# dispatch of the tasks to the workers.\u001B[39;00m\n\u001B[0;32m   1950\u001B[0m \u001B[38;5;28mnext\u001B[39m(output)\n\u001B[1;32m-> 1952\u001B[0m \u001B[38;5;28;01mreturn\u001B[39;00m output \u001B[38;5;28;01mif\u001B[39;00m \u001B[38;5;28mself\u001B[39m\u001B[38;5;241m.\u001B[39mreturn_generator \u001B[38;5;28;01melse\u001B[39;00m \u001B[38;5;28;43mlist\u001B[39;49m\u001B[43m(\u001B[49m\u001B[43moutput\u001B[49m\u001B[43m)\u001B[49m\n",
      "File \u001B[1;32m~\\AppData\\Local\\Programs\\Python\\Python312\\Lib\\site-packages\\joblib\\parallel.py:1595\u001B[0m, in \u001B[0;36mParallel._get_outputs\u001B[1;34m(self, iterator, pre_dispatch)\u001B[0m\n\u001B[0;32m   1592\u001B[0m     \u001B[38;5;28;01myield\u001B[39;00m\n\u001B[0;32m   1594\u001B[0m     \u001B[38;5;28;01mwith\u001B[39;00m \u001B[38;5;28mself\u001B[39m\u001B[38;5;241m.\u001B[39m_backend\u001B[38;5;241m.\u001B[39mretrieval_context():\n\u001B[1;32m-> 1595\u001B[0m         \u001B[38;5;28;01myield from\u001B[39;00m \u001B[38;5;28mself\u001B[39m\u001B[38;5;241m.\u001B[39m_retrieve()\n\u001B[0;32m   1597\u001B[0m \u001B[38;5;28;01mexcept\u001B[39;00m \u001B[38;5;167;01mGeneratorExit\u001B[39;00m:\n\u001B[0;32m   1598\u001B[0m     \u001B[38;5;66;03m# The generator has been garbage collected before being fully\u001B[39;00m\n\u001B[0;32m   1599\u001B[0m     \u001B[38;5;66;03m# consumed. This aborts the remaining tasks if possible and warn\u001B[39;00m\n\u001B[0;32m   1600\u001B[0m     \u001B[38;5;66;03m# the user if necessary.\u001B[39;00m\n\u001B[0;32m   1601\u001B[0m     \u001B[38;5;28mself\u001B[39m\u001B[38;5;241m.\u001B[39m_exception \u001B[38;5;241m=\u001B[39m \u001B[38;5;28;01mTrue\u001B[39;00m\n",
      "File \u001B[1;32m~\\AppData\\Local\\Programs\\Python\\Python312\\Lib\\site-packages\\joblib\\parallel.py:1707\u001B[0m, in \u001B[0;36mParallel._retrieve\u001B[1;34m(self)\u001B[0m\n\u001B[0;32m   1702\u001B[0m \u001B[38;5;66;03m# If the next job is not ready for retrieval yet, we just wait for\u001B[39;00m\n\u001B[0;32m   1703\u001B[0m \u001B[38;5;66;03m# async callbacks to progress.\u001B[39;00m\n\u001B[0;32m   1704\u001B[0m \u001B[38;5;28;01mif\u001B[39;00m ((\u001B[38;5;28mlen\u001B[39m(\u001B[38;5;28mself\u001B[39m\u001B[38;5;241m.\u001B[39m_jobs) \u001B[38;5;241m==\u001B[39m \u001B[38;5;241m0\u001B[39m) \u001B[38;5;129;01mor\u001B[39;00m\n\u001B[0;32m   1705\u001B[0m     (\u001B[38;5;28mself\u001B[39m\u001B[38;5;241m.\u001B[39m_jobs[\u001B[38;5;241m0\u001B[39m]\u001B[38;5;241m.\u001B[39mget_status(\n\u001B[0;32m   1706\u001B[0m         timeout\u001B[38;5;241m=\u001B[39m\u001B[38;5;28mself\u001B[39m\u001B[38;5;241m.\u001B[39mtimeout) \u001B[38;5;241m==\u001B[39m TASK_PENDING)):\n\u001B[1;32m-> 1707\u001B[0m     \u001B[43mtime\u001B[49m\u001B[38;5;241;43m.\u001B[39;49m\u001B[43msleep\u001B[49m\u001B[43m(\u001B[49m\u001B[38;5;241;43m0.01\u001B[39;49m\u001B[43m)\u001B[49m\n\u001B[0;32m   1708\u001B[0m     \u001B[38;5;28;01mcontinue\u001B[39;00m\n\u001B[0;32m   1710\u001B[0m \u001B[38;5;66;03m# We need to be careful: the job list can be filling up as\u001B[39;00m\n\u001B[0;32m   1711\u001B[0m \u001B[38;5;66;03m# we empty it and Python list are not thread-safe by\u001B[39;00m\n\u001B[0;32m   1712\u001B[0m \u001B[38;5;66;03m# default hence the use of the lock\u001B[39;00m\n",
      "\u001B[1;31mKeyboardInterrupt\u001B[0m: "
     ]
    }
   ],
   "execution_count": 30
  },
  {
   "metadata": {
    "ExecuteTime": {
     "end_time": "2024-05-31T09:50:47.693156Z",
     "start_time": "2024-05-31T09:50:47.684119Z"
    }
   },
   "cell_type": "code",
   "source": [
    "def custom_features(df):\n",
    "    df_out = df.copy()\n",
    "    df_mean_encode = pd.concat([X_train,y_train],axis=1)\n",
    "    df_out[\"Deck\"] = df_out[\"Cabin\"].apply(lambda x: str(x)[:1])\n",
    "    df_out[\"Side\"] = df_out[\"Cabin\"].apply(lambda x: str(x)[-1:])\n",
    "    df_out[\"CabinNumber\"] = df_out[\"Cabin\"].apply(lambda x: str(x)[2:-2])\n",
    "    df_out[\"CabinNumber\"] = df_out[\"CabinNumber\"].apply(lambda x:int(x) if x.isdigit() else np.nan)\n",
    "    df_out[\"CabinNum_0_300\"] = (df_out[\"CabinNumber\"] < 300).astype(str)\n",
    "    df_out[\"CabinNum_300_600\"] = ((df_out[\"CabinNumber\"] > 300) & (df_out[\"CabinNumber\"] < 600)).astype(str)\n",
    "    df_out[\"CabinNum_600_900\"] = ((df_out[\"CabinNumber\"] > 600) & (df_out[\"CabinNumber\"] < 900)).astype(str)\n",
    "    df_out[\"CabinNum_900_1200\"] = ((df_out[\"CabinNumber\"] > 900) & (df_out[\"CabinNumber\"] < 1200)).astype(str)\n",
    "    df_out[\"CabinNum_1200_1500\"] = ((df_out[\"CabinNumber\"] > 1200) & (df_out[\"CabinNumber\"] < 1500)).astype(str)\n",
    "    df_out[\"CabinNum_1500_1800\"] = ((df_out[\"CabinNumber\"] > 1500) & (df_out[\"CabinNumber\"] < 1800)).astype(str)\n",
    "    \n",
    "    df_out[\"DeckSideMeanEncoded\"] = df_out[\"Deck\"].apply(str)+\"-\"+df_out[\"Side\"].apply(str)\n",
    "    df_out[\"DeckSideMeanEncoded\"] = df_out[\"DeckSideMeanEncoded\"].apply(lambda x:\"Missing\" if \"n\" in x else x)\n",
    "    df_mean_encode[\"Deck\"] = df_mean_encode[\"Cabin\"].apply(lambda x: str(x)[:1])\n",
    "    df_mean_encode[\"Side\"] = df_mean_encode[\"Cabin\"].apply(lambda x: str(x)[-1:])\n",
    "    df_mean_encode[\"DeckSideMeanEncoded\"] = df_mean_encode[\"Deck\"].apply(str)+\"-\"+df_mean_encode[\"Side\"].apply(str)\n",
    "    df_mean_encode[\"DeckSideMeanEncoded\"] = df_mean_encode[\"DeckSideMeanEncoded\"].apply(lambda x:\"Missing\" if \"n\" in x else x)\n",
    "    dt = df_mean_encode.groupby(\"DeckSideMeanEncoded\")[\"Transported\"].mean()\n",
    "    df_out[\"DeckSideMeanEncoded\"] = df_out.merge(dt,on=\"DeckSideMeanEncoded\",how=\"left\")[\"Transported\"].values\n",
    "    \n",
    "    df_out[\"DestinationHomePlanetMeanEncoded\"] = df_out[\"Destination\"].apply(str)+\"-\"+df_out[\"HomePlanet\"].apply(str)\n",
    "    df_out[\"DestinationHomePlanetMeanEncoded\"] = df_out[\"DestinationHomePlanetMeanEncoded\"].apply(lambda x:\"Missing\" if \"nan\" in x else x)\n",
    "    df_mean_encode[\"DestinationHomePlanetMeanEncoded\"] = df_mean_encode[\"Destination\"].apply(str)+\"-\"+df_mean_encode[\"HomePlanet\"].apply(str)\n",
    "    df_mean_encode[\"DestinationHomePlanetMeanEncoded\"] = df_mean_encode[\"DestinationHomePlanetMeanEncoded\"].apply(lambda x:\"Missing\" if \"nan\" in x else x)\n",
    "    dt = df_mean_encode.groupby(\"DestinationHomePlanetMeanEncoded\")[\"Transported\"].mean()\n",
    "    df_out[\"DestinationHomePlanetMeanEncoded\"] = df_out.merge(dt,on=\"DestinationHomePlanetMeanEncoded\",how=\"left\")[\"Transported\"].values\n",
    "    df_out.drop(\"Cabin\",axis=1,inplace=True)\n",
    "    return df_out"
   ],
   "id": "5abb50b8801fed1a",
   "outputs": [],
   "execution_count": 19
  },
  {
   "metadata": {
    "ExecuteTime": {
     "end_time": "2024-05-31T09:50:47.697203Z",
     "start_time": "2024-05-31T09:50:47.693156Z"
    }
   },
   "cell_type": "code",
   "source": "feature_transformer = FunctionTransformer(custom_features)",
   "id": "747d9b1e569cecef",
   "outputs": [],
   "execution_count": 20
  },
  {
   "metadata": {
    "ExecuteTime": {
     "end_time": "2024-05-31T09:50:47.705542Z",
     "start_time": "2024-05-31T09:50:47.697203Z"
    }
   },
   "cell_type": "code",
   "source": [
    "new_cat_columns = pd.Index([\"Deck\",\"Side\",\"CabinNum_1500_1800\",\"CabinNum_1200_1500\",\"CabinNum_900_1200\",\"CabinNum_600_900\",\"CabinNum_300_600\",\"CabinNum_0_300\"])\n",
    "new_num_columns = pd.Index([\"DeckSideMeanEncoded\",\"DestinationHomePlanetMeanEncoded\",\"CabinNumber\"])\n",
    "cat_columns = X.drop(\"Cabin\",axis=1).select_dtypes(include=['object',\"category\"]).columns.append(new_cat_columns)\n",
    "num_columns = X.select_dtypes(exclude=['object',\"category\"]).columns.append(new_num_columns)"
   ],
   "id": "19a588ab4a0562b4",
   "outputs": [],
   "execution_count": 21
  },
  {
   "metadata": {
    "ExecuteTime": {
     "end_time": "2024-05-31T09:50:47.710410Z",
     "start_time": "2024-05-31T09:50:47.706596Z"
    }
   },
   "cell_type": "code",
   "source": [
    "preprocessor = ColumnTransformer([\n",
    "    (\"num\",numeric_transformer,num_columns),\n",
    "    (\"cat\",categorical_transformer,cat_columns),\n",
    "], remainder=\"passthrough\")"
   ],
   "id": "eb5f9f8f91f3b4fc",
   "outputs": [],
   "execution_count": 22
  },
  {
   "metadata": {
    "ExecuteTime": {
     "end_time": "2024-05-31T09:50:47.714573Z",
     "start_time": "2024-05-31T09:50:47.711458Z"
    }
   },
   "cell_type": "code",
   "source": [
    "preprocessor_fe = Pipeline([\n",
    "    (\"feature_transformer\",feature_transformer),\n",
    "    (\"preprocessor\",preprocessor)\n",
    "])"
   ],
   "id": "95b7b04a82579dc8",
   "outputs": [],
   "execution_count": 23
  },
  {
   "metadata": {
    "ExecuteTime": {
     "end_time": "2024-05-31T09:50:48.095634Z",
     "start_time": "2024-05-31T09:50:47.718033Z"
    }
   },
   "cell_type": "code",
   "source": [
    "X_train_preprocessed_fe = preprocessor_fe.fit_transform(X_train)\n",
    "X_val_preprocessed_fe = preprocessor_fe.transform(X_val)\n",
    "X_full_preprocessed_fe = preprocessor_fe.fit_transform(X)"
   ],
   "id": "66f26419fae0d8ec",
   "outputs": [],
   "execution_count": 24
  },
  {
   "metadata": {
    "ExecuteTime": {
     "end_time": "2024-05-31T09:50:49.554670Z",
     "start_time": "2024-05-31T09:50:48.095634Z"
    }
   },
   "cell_type": "code",
   "source": [
    "inertais = []\n",
    "for k in range(2,70):\n",
    "    kmeans = KMeans(n_clusters=k,random_state=42)\n",
    "    kmeans.fit(X_train_preprocessed_fe,y_train)\n",
    "    inertais.append(kmeans.inertia_)\n",
    "print(pd.Series(inertais).diff)"
   ],
   "id": "fa6987f002ed7f75",
   "outputs": [
    {
     "name": "stdout",
     "output_type": "stream",
     "text": [
      "<bound method Series.diff of 0     77968.511262\n",
      "1     71969.840321\n",
      "2     67241.047332\n",
      "3     63861.312871\n",
      "4     60760.584644\n",
      "          ...     \n",
      "63    24887.478422\n",
      "64    25170.421023\n",
      "65    24935.057513\n",
      "66    24560.195129\n",
      "67    24693.546935\n",
      "Length: 68, dtype: float64>\n"
     ]
    }
   ],
   "execution_count": 25
  },
  {
   "metadata": {
    "ExecuteTime": {
     "end_time": "2024-05-31T09:50:49.558637Z",
     "start_time": "2024-05-31T09:50:49.554670Z"
    }
   },
   "cell_type": "code",
   "source": [
    "def get_kmeans_clusters(df):\n",
    "    kmeans = KMeans(n_clusters=6,random_state=42)\n",
    "    kmeans.fit(X_train_preprocessed_fe,y_train)\n",
    "    clusters = kmeans.predict(df)\n",
    "    clusters = np.reshape(clusters,(-1,1))\n",
    "    df_out = np.append(df,clusters,axis=1)\n",
    "    return df_out"
   ],
   "id": "c8f911498851c5aa",
   "outputs": [],
   "execution_count": 26
  },
  {
   "metadata": {
    "ExecuteTime": {
     "end_time": "2024-05-31T09:50:49.598167Z",
     "start_time": "2024-05-31T09:50:49.559774Z"
    }
   },
   "cell_type": "code",
   "source": [
    "X_train_preprocessed_fe_cluster = get_kmeans_clusters(X_train_preprocessed_fe)\n",
    "X_val_preprocessed_fe_cluster = get_kmeans_clusters(X_val_preprocessed_fe)\n",
    "X_full_preprocessed_fe_cluster = get_kmeans_clusters(X_full_preprocessed_fe)"
   ],
   "id": "ffe7363d8ae04ab8",
   "outputs": [],
   "execution_count": 27
  },
  {
   "metadata": {
    "ExecuteTime": {
     "end_time": "2024-05-31T08:59:09.117605Z",
     "start_time": "2024-05-31T08:19:44.406628Z"
    }
   },
   "cell_type": "code",
   "source": [
    "grids = {}\n",
    "for model_name,model in models.items():\n",
    "    grids[model_name] = GridSearchCV(model,param_grids[model_name],cv=cv,n_jobs=-2,scoring='accuracy')\n",
    "    grids[model_name].fit(X_train_preprocessed_fe_cluster,y_train)\n",
    "    print(f\"{model_name} best score : {grids[model_name].best_score_}\")\n",
    "    print(f\"{model_name} best params : {grids[model_name].best_params_}\")"
   ],
   "id": "5ade29577de73750",
   "outputs": [
    {
     "name": "stdout",
     "output_type": "stream",
     "text": [
      "LogisticRegression best score : 0.7976690854361802\n",
      "LogisticRegression best params : {'C': 0.1, 'l1_ratio': 0.4, 'penalty': 'elasticnet'}\n",
      "RandomForest best score : 0.8103224738684969\n",
      "RandomForest best params : {'min_samples_leaf': 6, 'min_samples_split': 2, 'n_estimators': 500}\n"
     ]
    },
    {
     "name": "stderr",
     "output_type": "stream",
     "text": [
      "C:\\Users\\micha\\AppData\\Local\\Programs\\Python\\Python312\\Lib\\site-packages\\sklearn\\ensemble\\_weight_boosting.py:519: FutureWarning: The SAMME.R algorithm (the default) is deprecated and will be removed in 1.6. Use the SAMME algorithm to circumvent this warning.\n",
      "  warnings.warn(\n"
     ]
    },
    {
     "name": "stdout",
     "output_type": "stream",
     "text": [
      "AdaBoost best score : 0.7983879926971436\n",
      "AdaBoost best params : {'learning_rate': 0.1, 'n_estimators': 750}\n",
      "GradientBoosting best score : 0.8100360488029418\n",
      "GradientBoosting best params : {'learning_rate': 0.08, 'max_depth': 5, 'n_estimators': 100}\n",
      "KNN best score : 0.7832888714190401\n",
      "KNN best params : {'n_neighbors': 9}\n",
      "SVC best score : 0.8081664761648625\n",
      "SVC best params : {'C': 1, 'gamma': 'scale'}\n"
     ]
    }
   ],
   "execution_count": 40
  },
  {
   "metadata": {
    "ExecuteTime": {
     "end_time": "2024-05-31T10:31:34.233886Z",
     "start_time": "2024-05-31T10:31:34.217441Z"
    }
   },
   "cell_type": "code",
   "source": [
    "tuned_models = {\n",
    "    \"LogisticRegression\": LogisticRegression(max_iter=10000,solver=\"saga\",C=0.1,l1_ratio=0.4,penalty=\"elasticnet\",random_state=42),\n",
    "    \"RandomForest\":RandomForestClassifier(random_state=42,n_jobs=-2,n_estimators=600,min_samples_leaf=6,min_samples_split=2),    \n",
    "    \"AdaBoost\":AdaBoostClassifier(random_state=42,n_estimators=750,learning_rate=0.1),\n",
    "    \"GradientBoosting\":GradientBoostingClassifier(random_state=42,n_estimators=150,learning_rate=0.08,max_depth=5),\n",
    "    \"KNN\":KNeighborsClassifier(n_neighbors=9),\n",
    "    \"SVC\":SVC(random_state=42,gamma=\"scale\",C=1),\n",
    "    \"StackingClassifier\":StackingClassifier(estimators=[\n",
    "        ('LogisticRegression', LogisticRegression(C=2, l1_ratio=0.8, max_iter=10000, penalty='elasticnet',random_state=42, solver='saga')), ('RandomForest', RandomForestClassifier(min_samples_leaf=6, min_samples_split=2,n_estimators=600, n_jobs=-2, random_state=42)), ('AdaBoost', AdaBoostClassifier(learning_rate=0.1, n_estimators=750, random_state=42)), ('GradientBoosting', GradientBoostingClassifier(learning_rate=0.08, max_depth=5, n_estimators=100,random_state=42)), ('KNN', KNeighborsClassifier(n_neighbors=19)), ('SVC', SVC(C=7, random_state=42))\n",
    "    ],n_jobs=-2),\n",
    "    \"StackingClassifier2\":StackingClassifier(estimators=[\n",
    "         ('RandomForest', RandomForestClassifier(min_samples_leaf=6, min_samples_split=2,n_estimators=600, n_jobs=-2, random_state=42)),('GradientBoosting', GradientBoostingClassifier(learning_rate=0.08, max_depth=5, n_estimators=150,random_state=42)),('SVC', SVC(C=7, random_state=42))\n",
    "    ],n_jobs=-2),\n",
    "    \"VotingClassifier\" : VotingClassifier([\n",
    "        ('SVC', SVC(C=1, random_state=42)) , ('RandomForest',RandomForestClassifier(min_samples_leaf=6, min_samples_split=2,n_estimators=600, n_jobs=-2, random_state=42)), ('GradientBoosting',GradientBoostingClassifier(learning_rate=0.08, max_depth=5,n_estimators=150,random_state=42))\n",
    "    ],n_jobs=-2),\n",
    "    \"VotingClassifier2\" : VotingClassifier([\n",
    "        ('SVC', SVC(C=1, random_state=42)) ,('GradientBoosting',GradientBoostingClassifier(learning_rate=0.08, max_depth=5,n_estimators=150,random_state=42))\n",
    "    ],n_jobs=-2)\n",
    "}"
   ],
   "id": "de45ea951333e821",
   "outputs": [],
   "execution_count": 66
  },
  {
   "metadata": {
    "ExecuteTime": {
     "end_time": "2024-05-31T10:32:19.949Z",
     "start_time": "2024-05-31T10:31:37.386134Z"
    }
   },
   "cell_type": "code",
   "source": [
    "grids = {}\n",
    "for model_name,model in tuned_models.items():\n",
    "    grids[model_name] = model\n",
    "    grids[model_name].fit(X_train_preprocessed_fe_cluster,y_train)\n",
    "    pred = grids[model_name].predict(X_val_preprocessed_fe_cluster)\n",
    "    print(model_name)\n",
    "    print(confusion_matrix(y_val,pred))\n",
    "    print(classification_report(y_val,pred))"
   ],
   "id": "804ee12dfc6efcf6",
   "outputs": [
    {
     "name": "stdout",
     "output_type": "stream",
     "text": [
      "LogisticRegression\n",
      "[[659 202]\n",
      " [170 708]]\n",
      "              precision    recall  f1-score   support\n",
      "\n",
      "       False       0.79      0.77      0.78       861\n",
      "        True       0.78      0.81      0.79       878\n",
      "\n",
      "    accuracy                           0.79      1739\n",
      "   macro avg       0.79      0.79      0.79      1739\n",
      "weighted avg       0.79      0.79      0.79      1739\n",
      "\n",
      "RandomForest\n",
      "[[685 176]\n",
      " [181 697]]\n",
      "              precision    recall  f1-score   support\n",
      "\n",
      "       False       0.79      0.80      0.79       861\n",
      "        True       0.80      0.79      0.80       878\n",
      "\n",
      "    accuracy                           0.79      1739\n",
      "   macro avg       0.79      0.79      0.79      1739\n",
      "weighted avg       0.79      0.79      0.79      1739\n",
      "\n"
     ]
    },
    {
     "name": "stderr",
     "output_type": "stream",
     "text": [
      "C:\\Users\\micha\\AppData\\Local\\Programs\\Python\\Python312\\Lib\\site-packages\\sklearn\\ensemble\\_weight_boosting.py:519: FutureWarning: The SAMME.R algorithm (the default) is deprecated and will be removed in 1.6. Use the SAMME algorithm to circumvent this warning.\n",
      "  warnings.warn(\n"
     ]
    },
    {
     "name": "stdout",
     "output_type": "stream",
     "text": [
      "AdaBoost\n",
      "[[638 223]\n",
      " [154 724]]\n",
      "              precision    recall  f1-score   support\n",
      "\n",
      "       False       0.81      0.74      0.77       861\n",
      "        True       0.76      0.82      0.79       878\n",
      "\n",
      "    accuracy                           0.78      1739\n",
      "   macro avg       0.79      0.78      0.78      1739\n",
      "weighted avg       0.78      0.78      0.78      1739\n",
      "\n",
      "GradientBoosting\n",
      "[[674 187]\n",
      " [151 727]]\n",
      "              precision    recall  f1-score   support\n",
      "\n",
      "       False       0.82      0.78      0.80       861\n",
      "        True       0.80      0.83      0.81       878\n",
      "\n",
      "    accuracy                           0.81      1739\n",
      "   macro avg       0.81      0.81      0.81      1739\n",
      "weighted avg       0.81      0.81      0.81      1739\n",
      "\n",
      "KNN\n",
      "[[684 177]\n",
      " [223 655]]\n",
      "              precision    recall  f1-score   support\n",
      "\n",
      "       False       0.75      0.79      0.77       861\n",
      "        True       0.79      0.75      0.77       878\n",
      "\n",
      "    accuracy                           0.77      1739\n",
      "   macro avg       0.77      0.77      0.77      1739\n",
      "weighted avg       0.77      0.77      0.77      1739\n",
      "\n",
      "SVC\n",
      "[[672 189]\n",
      " [163 715]]\n",
      "              precision    recall  f1-score   support\n",
      "\n",
      "       False       0.80      0.78      0.79       861\n",
      "        True       0.79      0.81      0.80       878\n",
      "\n",
      "    accuracy                           0.80      1739\n",
      "   macro avg       0.80      0.80      0.80      1739\n",
      "weighted avg       0.80      0.80      0.80      1739\n",
      "\n",
      "StackingClassifier\n",
      "[[673 188]\n",
      " [156 722]]\n",
      "              precision    recall  f1-score   support\n",
      "\n",
      "       False       0.81      0.78      0.80       861\n",
      "        True       0.79      0.82      0.81       878\n",
      "\n",
      "    accuracy                           0.80      1739\n",
      "   macro avg       0.80      0.80      0.80      1739\n",
      "weighted avg       0.80      0.80      0.80      1739\n",
      "\n",
      "StackingClassifier2\n",
      "[[673 188]\n",
      " [150 728]]\n",
      "              precision    recall  f1-score   support\n",
      "\n",
      "       False       0.82      0.78      0.80       861\n",
      "        True       0.79      0.83      0.81       878\n",
      "\n",
      "    accuracy                           0.81      1739\n",
      "   macro avg       0.81      0.81      0.81      1739\n",
      "weighted avg       0.81      0.81      0.81      1739\n",
      "\n",
      "VotingClassifier\n",
      "[[679 182]\n",
      " [154 724]]\n",
      "              precision    recall  f1-score   support\n",
      "\n",
      "       False       0.82      0.79      0.80       861\n",
      "        True       0.80      0.82      0.81       878\n",
      "\n",
      "    accuracy                           0.81      1739\n",
      "   macro avg       0.81      0.81      0.81      1739\n",
      "weighted avg       0.81      0.81      0.81      1739\n",
      "\n",
      "VotingClassifier2\n",
      "[[715 146]\n",
      " [189 689]]\n",
      "              precision    recall  f1-score   support\n",
      "\n",
      "       False       0.79      0.83      0.81       861\n",
      "        True       0.83      0.78      0.80       878\n",
      "\n",
      "    accuracy                           0.81      1739\n",
      "   macro avg       0.81      0.81      0.81      1739\n",
      "weighted avg       0.81      0.81      0.81      1739\n",
      "\n"
     ]
    }
   ],
   "execution_count": 67
  },
  {
   "metadata": {
    "ExecuteTime": {
     "end_time": "2024-05-31T10:33:08.195125Z",
     "start_time": "2024-05-31T10:33:08.171697Z"
    }
   },
   "cell_type": "code",
   "source": "test_df = pd.read_csv(\"test.csv\")",
   "id": "c16c989dacdb9bd9",
   "outputs": [],
   "execution_count": 70
  },
  {
   "metadata": {
    "ExecuteTime": {
     "end_time": "2024-05-31T10:33:08.460404Z",
     "start_time": "2024-05-31T10:33:08.383532Z"
    }
   },
   "cell_type": "code",
   "source": [
    "test_df_preprocessed_fe = preprocessor_fe.transform(test_df)\n",
    "test_df_preprocessed_fe_cluster =get_kmeans_clusters(test_df_preprocessed_fe)"
   ],
   "id": "f3091cf067260e1",
   "outputs": [],
   "execution_count": 71
  },
  {
   "metadata": {
    "ExecuteTime": {
     "end_time": "2024-05-31T10:33:12.294967Z",
     "start_time": "2024-05-31T10:33:08.555406Z"
    }
   },
   "cell_type": "code",
   "source": [
    "# grids[\"VotingClassifier2\"].fit(X_full_preprocessed_fe_cluster,y)\n",
    "# test_df[\"Transported\"] = grids[\"VotingClassifier2\"].predict(test_df_preprocessed_fe_cluster)"
   ],
   "id": "20513270c183bf84",
   "outputs": [],
   "execution_count": 72
  },
  {
   "metadata": {
    "ExecuteTime": {
     "end_time": "2024-05-31T09:54:01.660966Z",
     "start_time": "2024-05-31T09:53:54.551843Z"
    }
   },
   "cell_type": "code",
   "source": [
    "# grids[\"StackingClassifier2\"].fit(X_full_preprocessed_fe_cluster,y)\n",
    "# test_df[\"Transported\"] = grids[\"StackingClassifier2\"].predict(test_df_preprocessed_fe_cluster)"
   ],
   "id": "81c6d5cfd45090f3",
   "outputs": [],
   "execution_count": 33
  },
  {
   "metadata": {
    "ExecuteTime": {
     "end_time": "2024-05-31T10:22:48.929900Z",
     "start_time": "2024-05-31T10:22:45.423801Z"
    }
   },
   "cell_type": "code",
   "source": [
    "grids[\"GradientBoosting\"].fit(X_full_preprocessed_fe_cluster,y)\n",
    "test_df[\"Transported\"] = grids[\"GradientBoosting\"].predict(test_df_preprocessed_fe_cluster)"
   ],
   "id": "ddc67a09deba9a48",
   "outputs": [],
   "execution_count": 55
  },
  {
   "metadata": {
    "ExecuteTime": {
     "end_time": "2024-05-31T10:33:12.299475Z",
     "start_time": "2024-05-31T10:33:12.294967Z"
    }
   },
   "cell_type": "code",
   "source": "submission = pd.DataFrame(test_df[[\"PassengerId\",\"Transported\"]])",
   "id": "b14d4c277762de33",
   "outputs": [],
   "execution_count": 73
  },
  {
   "metadata": {
    "ExecuteTime": {
     "end_time": "2024-05-31T10:33:34.629798Z",
     "start_time": "2024-05-31T10:33:34.613254Z"
    }
   },
   "cell_type": "code",
   "source": "# submission.to_csv(\"VotingClassifier_clustered_X_full_no_rf.csv\",index=False)",
   "id": "40f38e7abb8f9cd5",
   "outputs": [],
   "execution_count": 74
  },
  {
   "metadata": {},
   "cell_type": "code",
   "outputs": [],
   "execution_count": null,
   "source": "submission.to_csv(\"XGBoost_clustered_X_full.csv\",index=False)",
   "id": "f0490b722e4d68cb"
  }
 ],
 "metadata": {
  "kernelspec": {
   "display_name": "Python 3",
   "language": "python",
   "name": "python3"
  },
  "language_info": {
   "codemirror_mode": {
    "name": "ipython",
    "version": 2
   },
   "file_extension": ".py",
   "mimetype": "text/x-python",
   "name": "python",
   "nbconvert_exporter": "python",
   "pygments_lexer": "ipython2",
   "version": "2.7.6"
  }
 },
 "nbformat": 4,
 "nbformat_minor": 5
}
