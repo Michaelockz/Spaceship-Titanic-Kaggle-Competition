{
 "cells": [
  {
   "cell_type": "code",
   "id": "initial_id",
   "metadata": {
    "collapsed": true,
    "ExecuteTime": {
     "end_time": "2024-05-31T07:06:20.519441Z",
     "start_time": "2024-05-31T07:06:20.504896Z"
    }
   },
   "source": [
    "import numpy as np\n",
    "import pandas as pd"
   ],
   "outputs": [],
   "execution_count": 44
  },
  {
   "metadata": {
    "ExecuteTime": {
     "end_time": "2024-05-31T07:06:20.644106Z",
     "start_time": "2024-05-31T07:06:20.640542Z"
    }
   },
   "cell_type": "code",
   "source": [
    "from sklearnex import patch_sklearn,config_context\n",
    "patch_sklearn()"
   ],
   "id": "4f2a41c49d4ea812",
   "outputs": [
    {
     "name": "stderr",
     "output_type": "stream",
     "text": [
      "Intel(R) Extension for Scikit-learn* enabled (https://github.com/intel/scikit-learn-intelex)\n"
     ]
    }
   ],
   "execution_count": 45
  },
  {
   "metadata": {
    "ExecuteTime": {
     "end_time": "2024-05-31T07:06:21.256044Z",
     "start_time": "2024-05-31T07:06:21.240972Z"
    }
   },
   "cell_type": "code",
   "source": [
    "from sklearn.impute import SimpleImputer\n",
    "from sklearn.compose import ColumnTransformer\n",
    "from sklearn.pipeline import Pipeline\n",
    "from sklearn.preprocessing import StandardScaler, MinMaxScaler, OneHotEncoder,FunctionTransformer\n",
    "from sklearn.model_selection import train_test_split,GridSearchCV,KFold\n",
    "from sklearn.cluster import KMeans"
   ],
   "id": "ab52d06131c8887a",
   "outputs": [],
   "execution_count": 46
  },
  {
   "metadata": {
    "ExecuteTime": {
     "end_time": "2024-05-31T07:06:21.579722Z",
     "start_time": "2024-05-31T07:06:21.542465Z"
    }
   },
   "cell_type": "code",
   "source": "train_df = pd.read_csv('train.csv')",
   "id": "8fe181eefbd7232d",
   "outputs": [],
   "execution_count": 47
  },
  {
   "metadata": {
    "ExecuteTime": {
     "end_time": "2024-05-31T07:06:21.872958Z",
     "start_time": "2024-05-31T07:06:21.849584Z"
    }
   },
   "cell_type": "code",
   "source": "train_df.head()",
   "id": "685e66d4ae3d22fe",
   "outputs": [
    {
     "data": {
      "text/plain": [
       "  PassengerId HomePlanet CryoSleep  Cabin  Destination   Age    VIP  \\\n",
       "0     0001_01     Europa     False  B/0/P  TRAPPIST-1e  39.0  False   \n",
       "1     0002_01      Earth     False  F/0/S  TRAPPIST-1e  24.0  False   \n",
       "2     0003_01     Europa     False  A/0/S  TRAPPIST-1e  58.0   True   \n",
       "3     0003_02     Europa     False  A/0/S  TRAPPIST-1e  33.0  False   \n",
       "4     0004_01      Earth     False  F/1/S  TRAPPIST-1e  16.0  False   \n",
       "\n",
       "   RoomService  FoodCourt  ShoppingMall     Spa  VRDeck               Name  \\\n",
       "0          0.0        0.0           0.0     0.0     0.0    Maham Ofracculy   \n",
       "1        109.0        9.0          25.0   549.0    44.0       Juanna Vines   \n",
       "2         43.0     3576.0           0.0  6715.0    49.0      Altark Susent   \n",
       "3          0.0     1283.0         371.0  3329.0   193.0       Solam Susent   \n",
       "4        303.0       70.0         151.0   565.0     2.0  Willy Santantines   \n",
       "\n",
       "   Transported  \n",
       "0        False  \n",
       "1         True  \n",
       "2        False  \n",
       "3        False  \n",
       "4         True  "
      ],
      "text/html": [
       "<div>\n",
       "<style scoped>\n",
       "    .dataframe tbody tr th:only-of-type {\n",
       "        vertical-align: middle;\n",
       "    }\n",
       "\n",
       "    .dataframe tbody tr th {\n",
       "        vertical-align: top;\n",
       "    }\n",
       "\n",
       "    .dataframe thead th {\n",
       "        text-align: right;\n",
       "    }\n",
       "</style>\n",
       "<table border=\"1\" class=\"dataframe\">\n",
       "  <thead>\n",
       "    <tr style=\"text-align: right;\">\n",
       "      <th></th>\n",
       "      <th>PassengerId</th>\n",
       "      <th>HomePlanet</th>\n",
       "      <th>CryoSleep</th>\n",
       "      <th>Cabin</th>\n",
       "      <th>Destination</th>\n",
       "      <th>Age</th>\n",
       "      <th>VIP</th>\n",
       "      <th>RoomService</th>\n",
       "      <th>FoodCourt</th>\n",
       "      <th>ShoppingMall</th>\n",
       "      <th>Spa</th>\n",
       "      <th>VRDeck</th>\n",
       "      <th>Name</th>\n",
       "      <th>Transported</th>\n",
       "    </tr>\n",
       "  </thead>\n",
       "  <tbody>\n",
       "    <tr>\n",
       "      <th>0</th>\n",
       "      <td>0001_01</td>\n",
       "      <td>Europa</td>\n",
       "      <td>False</td>\n",
       "      <td>B/0/P</td>\n",
       "      <td>TRAPPIST-1e</td>\n",
       "      <td>39.0</td>\n",
       "      <td>False</td>\n",
       "      <td>0.0</td>\n",
       "      <td>0.0</td>\n",
       "      <td>0.0</td>\n",
       "      <td>0.0</td>\n",
       "      <td>0.0</td>\n",
       "      <td>Maham Ofracculy</td>\n",
       "      <td>False</td>\n",
       "    </tr>\n",
       "    <tr>\n",
       "      <th>1</th>\n",
       "      <td>0002_01</td>\n",
       "      <td>Earth</td>\n",
       "      <td>False</td>\n",
       "      <td>F/0/S</td>\n",
       "      <td>TRAPPIST-1e</td>\n",
       "      <td>24.0</td>\n",
       "      <td>False</td>\n",
       "      <td>109.0</td>\n",
       "      <td>9.0</td>\n",
       "      <td>25.0</td>\n",
       "      <td>549.0</td>\n",
       "      <td>44.0</td>\n",
       "      <td>Juanna Vines</td>\n",
       "      <td>True</td>\n",
       "    </tr>\n",
       "    <tr>\n",
       "      <th>2</th>\n",
       "      <td>0003_01</td>\n",
       "      <td>Europa</td>\n",
       "      <td>False</td>\n",
       "      <td>A/0/S</td>\n",
       "      <td>TRAPPIST-1e</td>\n",
       "      <td>58.0</td>\n",
       "      <td>True</td>\n",
       "      <td>43.0</td>\n",
       "      <td>3576.0</td>\n",
       "      <td>0.0</td>\n",
       "      <td>6715.0</td>\n",
       "      <td>49.0</td>\n",
       "      <td>Altark Susent</td>\n",
       "      <td>False</td>\n",
       "    </tr>\n",
       "    <tr>\n",
       "      <th>3</th>\n",
       "      <td>0003_02</td>\n",
       "      <td>Europa</td>\n",
       "      <td>False</td>\n",
       "      <td>A/0/S</td>\n",
       "      <td>TRAPPIST-1e</td>\n",
       "      <td>33.0</td>\n",
       "      <td>False</td>\n",
       "      <td>0.0</td>\n",
       "      <td>1283.0</td>\n",
       "      <td>371.0</td>\n",
       "      <td>3329.0</td>\n",
       "      <td>193.0</td>\n",
       "      <td>Solam Susent</td>\n",
       "      <td>False</td>\n",
       "    </tr>\n",
       "    <tr>\n",
       "      <th>4</th>\n",
       "      <td>0004_01</td>\n",
       "      <td>Earth</td>\n",
       "      <td>False</td>\n",
       "      <td>F/1/S</td>\n",
       "      <td>TRAPPIST-1e</td>\n",
       "      <td>16.0</td>\n",
       "      <td>False</td>\n",
       "      <td>303.0</td>\n",
       "      <td>70.0</td>\n",
       "      <td>151.0</td>\n",
       "      <td>565.0</td>\n",
       "      <td>2.0</td>\n",
       "      <td>Willy Santantines</td>\n",
       "      <td>True</td>\n",
       "    </tr>\n",
       "  </tbody>\n",
       "</table>\n",
       "</div>"
      ]
     },
     "execution_count": 48,
     "metadata": {},
     "output_type": "execute_result"
    }
   ],
   "execution_count": 48
  },
  {
   "metadata": {
    "ExecuteTime": {
     "end_time": "2024-05-31T07:06:22.154052Z",
     "start_time": "2024-05-31T07:06:22.147816Z"
    }
   },
   "cell_type": "code",
   "source": [
    "def percent_missing(df):\n",
    "    missing = df.isna().sum().sort_values(ascending=False)\n",
    "    missing = missing[missing > 0]\n",
    "    return missing * 100 /len(df)"
   ],
   "id": "7a6e5e254c095afd",
   "outputs": [],
   "execution_count": 49
  },
  {
   "metadata": {
    "ExecuteTime": {
     "end_time": "2024-05-31T07:06:22.354928Z",
     "start_time": "2024-05-31T07:06:22.339281Z"
    }
   },
   "cell_type": "code",
   "source": "percent_missing(train_df)",
   "id": "15328ac7e4368e6c",
   "outputs": [
    {
     "data": {
      "text/plain": [
       "CryoSleep       2.496261\n",
       "ShoppingMall    2.392730\n",
       "VIP             2.335212\n",
       "HomePlanet      2.312205\n",
       "Name            2.300702\n",
       "Cabin           2.289198\n",
       "VRDeck          2.162660\n",
       "FoodCourt       2.105142\n",
       "Spa             2.105142\n",
       "Destination     2.093639\n",
       "RoomService     2.082135\n",
       "Age             2.059128\n",
       "dtype: float64"
      ]
     },
     "execution_count": 50,
     "metadata": {},
     "output_type": "execute_result"
    }
   ],
   "execution_count": 50
  },
  {
   "metadata": {
    "ExecuteTime": {
     "end_time": "2024-05-31T07:06:23.042170Z",
     "start_time": "2024-05-31T07:06:23.022218Z"
    }
   },
   "cell_type": "code",
   "source": [
    "X = train_df.drop(\"Transported\",axis=1)\n",
    "y = train_df[\"Transported\"]"
   ],
   "id": "ce2a2724dbf571e",
   "outputs": [],
   "execution_count": 51
  },
  {
   "metadata": {
    "ExecuteTime": {
     "end_time": "2024-05-31T07:06:23.189652Z",
     "start_time": "2024-05-31T07:06:23.173222Z"
    }
   },
   "cell_type": "code",
   "source": [
    "X[\"CryoSleep\"] = X[\"CryoSleep\"].astype(\"str\")\n",
    "X[\"VIP\"] = X[\"VIP\"].astype(\"str\")\n"
   ],
   "id": "22599358ef83987e",
   "outputs": [],
   "execution_count": 52
  },
  {
   "metadata": {
    "ExecuteTime": {
     "end_time": "2024-05-31T07:06:23.781437Z",
     "start_time": "2024-05-31T07:06:23.758161Z"
    }
   },
   "cell_type": "code",
   "source": "X_train, X_val, y_train, y_val = train_test_split(X, y, test_size=0.2,random_state=42)",
   "id": "20a681979ffddf48",
   "outputs": [],
   "execution_count": 53
  },
  {
   "metadata": {
    "ExecuteTime": {
     "end_time": "2024-05-31T07:06:23.923194Z",
     "start_time": "2024-05-31T07:06:23.909509Z"
    }
   },
   "cell_type": "code",
   "source": [
    "cat_columns = X.select_dtypes(include=['object',\"category\"]).columns\n",
    "num_columns = X.select_dtypes(exclude=['object',\"category\"]).columns"
   ],
   "id": "c3382e55e110825b",
   "outputs": [],
   "execution_count": 54
  },
  {
   "metadata": {
    "ExecuteTime": {
     "end_time": "2024-05-31T07:06:24.365122Z",
     "start_time": "2024-05-31T07:06:24.354088Z"
    }
   },
   "cell_type": "code",
   "source": [
    "numeric_transformer = Pipeline([\n",
    "    ('imputer',SimpleImputer(strategy=\"constant\",fill_value=0)),\n",
    "    ('scaler',StandardScaler())\n",
    "])\n",
    "categorical_transformer = Pipeline([\n",
    "    (\"imputer\",SimpleImputer(strategy=\"constant\",fill_value=\"Missing\")),\n",
    "    (\"encoder\",OneHotEncoder(handle_unknown=\"ignore\",sparse_output=False,min_frequency=10,max_categories=10)),\n",
    "])\n"
   ],
   "id": "945b79a001354c11",
   "outputs": [],
   "execution_count": 55
  },
  {
   "metadata": {
    "ExecuteTime": {
     "end_time": "2024-05-31T07:06:24.684067Z",
     "start_time": "2024-05-31T07:06:24.673035Z"
    }
   },
   "cell_type": "code",
   "source": [
    "preprocessor = ColumnTransformer([\n",
    "    (\"num\",numeric_transformer,num_columns),\n",
    "    (\"cat\",categorical_transformer,cat_columns),\n",
    "], remainder=\"passthrough\")"
   ],
   "id": "115e2bb235c873e",
   "outputs": [],
   "execution_count": 56
  },
  {
   "metadata": {
    "ExecuteTime": {
     "end_time": "2024-05-31T07:06:25.648773Z",
     "start_time": "2024-05-31T07:06:25.558054Z"
    }
   },
   "cell_type": "code",
   "source": "X_train_preprocessed = preprocessor.fit_transform(X_train)",
   "id": "a98a8310b34da2b3",
   "outputs": [],
   "execution_count": 57
  },
  {
   "metadata": {
    "ExecuteTime": {
     "end_time": "2024-05-31T07:06:25.729832Z",
     "start_time": "2024-05-31T07:06:25.723911Z"
    }
   },
   "cell_type": "code",
   "source": [
    "from sklearn.linear_model import LogisticRegression\n",
    "from sklearn.ensemble import RandomForestClassifier, AdaBoostClassifier, GradientBoostingClassifier, VotingClassifier,StackingClassifier\n",
    "from sklearn.neighbors import KNeighborsClassifier\n",
    "from sklearn.svm import SVC\n",
    "from sklearn.metrics import classification_report,confusion_matrix"
   ],
   "id": "39255a5848eb39f4",
   "outputs": [],
   "execution_count": 58
  },
  {
   "metadata": {
    "ExecuteTime": {
     "end_time": "2024-05-31T07:06:26.396955Z",
     "start_time": "2024-05-31T07:06:26.390540Z"
    }
   },
   "cell_type": "code",
   "source": [
    "models ={\n",
    "    \"LogisticRegression\": LogisticRegression(max_iter=10000,solver=\"saga\"),\n",
    "    \"RandomForest\":RandomForestClassifier(random_state=42,n_jobs=-2),\n",
    "    \"AdaBoost\":AdaBoostClassifier(random_state=42),\n",
    "    \"GradientBoosting\":GradientBoostingClassifier(random_state=42),\n",
    "    \"KNN\":KNeighborsClassifier(),\n",
    "    \"SVC\":SVC(random_state=42),\n",
    "} "
   ],
   "id": "b058b2e8a08a4070",
   "outputs": [],
   "execution_count": 59
  },
  {
   "metadata": {
    "ExecuteTime": {
     "end_time": "2024-05-31T07:06:26.697570Z",
     "start_time": "2024-05-31T07:06:26.679028Z"
    }
   },
   "cell_type": "code",
   "source": [
    "param_grids = {\n",
    "    \"LogisticRegression\":{\n",
    "        \"penalty\" : ['elasticnet'],\n",
    "        \"l1_ratio\" : [0.05,0.1,0.2,0.4,0.8],\n",
    "        \"C\":[0.1,0.8,1,2,10],\n",
    "    },\n",
    "    \"RandomForest\":{\n",
    "        \"n_estimators\":[68,100,150,200,300,400,600],\n",
    "        # \"min_samples_split\":[2,4,6,8,10],\n",
    "        \"min_samples_split\":[2,4,10,15],\n",
    "        # \"min_samples_leaf\":[1,2,4,6,8,10],\n",
    "        \"min_samples_leaf\":[2,4,6],\n",
    "    },\n",
    "    \"AdaBoost\":{\n",
    "        \"n_estimators\":[100,400,500,600,700,750,800],\n",
    "        \"learning_rate\":[0.001,0.01,0.05,0.1],\n",
    "        # \"algorithm\":[\"SAMME.R\",\"SAMME\"],\n",
    "    },\n",
    "    \"GradientBoosting\":{\n",
    "        \"n_estimators\":[100,200,300,400,500,600],\n",
    "        # \"learning_rate\":[0.001,0.01,0.03,0.05,0.08,0.1,1],\n",
    "        \"learning_rate\":[0.03,0.05,0.08,0.1,1],\n",
    "        # \"max_depth\":[2,3,4,5,6,10],\n",
    "        \"max_depth\":[3,4,5,6],\n",
    "    },\n",
    "    \"KNN\":{\n",
    "        \"n_neighbors\":np.arange(2,50),\n",
    "    },\n",
    "    \"SVC\":{\n",
    "        \"C\":[0.01,0.1,1,7,10,15],\n",
    "        # \"kernel\":['linear','poly','rbf'],\n",
    "        \"gamma\":[\"scale\",\"auto\"],\n",
    "    }\n",
    "}"
   ],
   "id": "ac5d245a4f8c10d2",
   "outputs": [],
   "execution_count": 60
  },
  {
   "metadata": {
    "ExecuteTime": {
     "end_time": "2024-05-31T07:06:27.478090Z",
     "start_time": "2024-05-31T07:06:27.469280Z"
    }
   },
   "cell_type": "code",
   "source": "cv = KFold(n_splits=5, random_state=42, shuffle=True)",
   "id": "6dcc068c63389fac",
   "outputs": [],
   "execution_count": 61
  },
  {
   "metadata": {
    "ExecuteTime": {
     "end_time": "2024-05-27T08:42:31.573680Z",
     "start_time": "2024-05-27T08:26:19.054818Z"
    }
   },
   "cell_type": "code",
   "source": [
    "grids = {}\n",
    "for model_name,model in models.items():\n",
    "    grids[model_name] = GridSearchCV(model,param_grids[model_name],cv=cv,n_jobs=-2,scoring='accuracy')\n",
    "    grids[model_name].fit(X_train_preprocessed,y_train)\n",
    "    print(f\"{model_name} best score : {grids[model_name].best_score_}\")\n",
    "    print(f\"{model_name} best params : {grids[model_name].best_params_}\")"
   ],
   "id": "f99cd8d67d39cd71",
   "outputs": [
    {
     "name": "stdout",
     "output_type": "stream",
     "text": [
      "LogisticRegression best score : 0.7884650036979762\n",
      "LogisticRegression best params : {'C': 1, 'l1_ratio': 0.4, 'penalty': 'elasticnet'}\n",
      "RandomForest best score : 0.8004006227081598\n",
      "RandomForest best params : {'min_samples_leaf': 10, 'min_samples_split': 2, 'n_estimators': 600}\n"
     ]
    },
    {
     "name": "stderr",
     "output_type": "stream",
     "text": [
      "C:\\Users\\micha\\AppData\\Local\\Programs\\Python\\Python312\\Lib\\site-packages\\sklearn\\ensemble\\_weight_boosting.py:519: FutureWarning: The SAMME.R algorithm (the default) is deprecated and will be removed in 1.6. Use the SAMME algorithm to circumvent this warning.\n",
      "  warnings.warn(\n"
     ]
    },
    {
     "name": "stdout",
     "output_type": "stream",
     "text": [
      "AdaBoost best score : 0.7924923325178821\n",
      "AdaBoost best params : {'algorithm': 'SAMME.R', 'learning_rate': 0.1, 'n_estimators': 700}\n",
      "GradientBoosting best score : 0.7982452456438874\n",
      "GradientBoosting best params : {'learning_rate': 0.1, 'max_depth': 5, 'n_estimators': 100}\n",
      "KNN best score : 0.7782571412316588\n",
      "KNN best params : {'n_neighbors': 33}\n",
      "SVC best score : 0.7881784751925276\n",
      "SVC best params : {'C': 1, 'gamma': 'auto'}\n"
     ]
    }
   ],
   "execution_count": 20
  },
  {
   "metadata": {
    "ExecuteTime": {
     "end_time": "2024-05-31T07:06:32.890760Z",
     "start_time": "2024-05-31T07:06:32.883277Z"
    }
   },
   "cell_type": "code",
   "source": [
    "def custom_features(df):\n",
    "    df_out = df.copy()\n",
    "    df_mean_encode = pd.concat([X_train,y_train],axis=1)\n",
    "    df_out[\"Deck\"] = df_out[\"Cabin\"].apply(lambda x: str(x)[:1])\n",
    "    df_out[\"Side\"] = df_out[\"Cabin\"].apply(lambda x: str(x)[-1:])\n",
    "    df_out[\"CabinNumber\"] = df_out[\"Cabin\"].apply(lambda x: str(x)[2:-2])\n",
    "    df_out[\"CabinNumber\"] = df_out[\"CabinNumber\"].apply(lambda x:int(x) if x.isdigit() else np.nan)\n",
    "    df_out[\"CabinNum_0_300\"] = (df_out[\"CabinNumber\"] < 300).astype(str)\n",
    "    df_out[\"CabinNum_300_600\"] = ((df_out[\"CabinNumber\"] > 300) & (df_out[\"CabinNumber\"] < 600)).astype(str)\n",
    "    df_out[\"CabinNum_600_900\"] = ((df_out[\"CabinNumber\"] > 600) & (df_out[\"CabinNumber\"] < 900)).astype(str)\n",
    "    df_out[\"CabinNum_900_1200\"] = ((df_out[\"CabinNumber\"] > 900) & (df_out[\"CabinNumber\"] < 1200)).astype(str)\n",
    "    df_out[\"CabinNum_1200_1500\"] = ((df_out[\"CabinNumber\"] > 1200) & (df_out[\"CabinNumber\"] < 1500)).astype(str)\n",
    "    df_out[\"CabinNum_1500_1800\"] = ((df_out[\"CabinNumber\"] > 1500) & (df_out[\"CabinNumber\"] < 1800)).astype(str)\n",
    "    \n",
    "    df_out[\"DeckSideMeanEncoded\"] = df_out[\"Deck\"].apply(str)+\"-\"+df_out[\"Side\"].apply(str)\n",
    "    df_out[\"DeckSideMeanEncoded\"] = df_out[\"DeckSideMeanEncoded\"].apply(lambda x:\"Missing\" if \"n\" in x else x)\n",
    "    df_mean_encode[\"Deck\"] = df_mean_encode[\"Cabin\"].apply(lambda x: str(x)[:1])\n",
    "    df_mean_encode[\"Side\"] = df_mean_encode[\"Cabin\"].apply(lambda x: str(x)[-1:])\n",
    "    df_mean_encode[\"DeckSideMeanEncoded\"] = df_mean_encode[\"Deck\"].apply(str)+\"-\"+df_mean_encode[\"Side\"].apply(str)\n",
    "    df_mean_encode[\"DeckSideMeanEncoded\"] = df_mean_encode[\"DeckSideMeanEncoded\"].apply(lambda x:\"Missing\" if \"n\" in x else x)\n",
    "    dt = df_mean_encode.groupby(\"DeckSideMeanEncoded\")[\"Transported\"].mean()\n",
    "    df_out[\"DeckSideMeanEncoded\"] = df_out.merge(dt,on=\"DeckSideMeanEncoded\",how=\"left\")[\"Transported\"].values\n",
    "    \n",
    "    df_out[\"DestinationHomePlanetMeanEncoded\"] = df_out[\"Destination\"].apply(str)+\"-\"+df_out[\"HomePlanet\"].apply(str)\n",
    "    df_out[\"DestinationHomePlanetMeanEncoded\"] = df_out[\"DestinationHomePlanetMeanEncoded\"].apply(lambda x:\"Missing\" if \"nan\" in x else x)\n",
    "    df_mean_encode[\"DestinationHomePlanetMeanEncoded\"] = df_mean_encode[\"Destination\"].apply(str)+\"-\"+df_mean_encode[\"HomePlanet\"].apply(str)\n",
    "    df_mean_encode[\"DestinationHomePlanetMeanEncoded\"] = df_mean_encode[\"DestinationHomePlanetMeanEncoded\"].apply(lambda x:\"Missing\" if \"nan\" in x else x)\n",
    "    dt = df_mean_encode.groupby(\"DestinationHomePlanetMeanEncoded\")[\"Transported\"].mean()\n",
    "    df_out[\"DestinationHomePlanetMeanEncoded\"] = df_out.merge(dt,on=\"DestinationHomePlanetMeanEncoded\",how=\"left\")[\"Transported\"].values\n",
    "    df_out.drop(\"Cabin\",axis=1,inplace=True)\n",
    "    return df_out"
   ],
   "id": "5abb50b8801fed1a",
   "outputs": [],
   "execution_count": 62
  },
  {
   "metadata": {
    "ExecuteTime": {
     "end_time": "2024-05-31T07:06:33.013197Z",
     "start_time": "2024-05-31T07:06:33.006674Z"
    }
   },
   "cell_type": "code",
   "source": "feature_transformer = FunctionTransformer(custom_features)",
   "id": "747d9b1e569cecef",
   "outputs": [],
   "execution_count": 63
  },
  {
   "metadata": {
    "ExecuteTime": {
     "end_time": "2024-05-31T07:06:33.541075Z",
     "start_time": "2024-05-31T07:06:33.521943Z"
    }
   },
   "cell_type": "code",
   "source": [
    "new_cat_columns = pd.Index([\"Deck\",\"Side\",\"CabinNum_1500_1800\",\"CabinNum_1200_1500\",\"CabinNum_900_1200\",\"CabinNum_600_900\",\"CabinNum_300_600\",\"CabinNum_0_300\"])\n",
    "new_num_columns = pd.Index([\"DeckSideMeanEncoded\",\"DestinationHomePlanetMeanEncoded\",\"CabinNumber\"])\n",
    "cat_columns = X.drop(\"Cabin\",axis=1).select_dtypes(include=['object',\"category\"]).columns.append(new_cat_columns)\n",
    "num_columns = X.select_dtypes(exclude=['object',\"category\"]).columns.append(new_num_columns)"
   ],
   "id": "19a588ab4a0562b4",
   "outputs": [],
   "execution_count": 64
  },
  {
   "metadata": {
    "ExecuteTime": {
     "end_time": "2024-05-31T07:06:34.169174Z",
     "start_time": "2024-05-31T07:06:34.164065Z"
    }
   },
   "cell_type": "code",
   "source": [
    "preprocessor = ColumnTransformer([\n",
    "    (\"num\",numeric_transformer,num_columns),\n",
    "    (\"cat\",categorical_transformer,cat_columns),\n",
    "], remainder=\"passthrough\")"
   ],
   "id": "eb5f9f8f91f3b4fc",
   "outputs": [],
   "execution_count": 65
  },
  {
   "metadata": {
    "ExecuteTime": {
     "end_time": "2024-05-31T07:06:34.296957Z",
     "start_time": "2024-05-31T07:06:34.285883Z"
    }
   },
   "cell_type": "code",
   "source": [
    "preprocessor_fe = Pipeline([\n",
    "    (\"feature_transformer\",feature_transformer),\n",
    "    (\"preprocessor\",preprocessor)\n",
    "])"
   ],
   "id": "95b7b04a82579dc8",
   "outputs": [],
   "execution_count": 66
  },
  {
   "metadata": {
    "ExecuteTime": {
     "end_time": "2024-05-31T07:06:35.322299Z",
     "start_time": "2024-05-31T07:06:34.887764Z"
    }
   },
   "cell_type": "code",
   "source": [
    "X_train_preprocessed_fe = preprocessor_fe.fit_transform(X_train)\n",
    "X_val_preprocessed_fe = preprocessor_fe.transform(X_val)\n",
    "X_full_preprocessed_fe = preprocessor_fe.fit_transform(X)"
   ],
   "id": "66f26419fae0d8ec",
   "outputs": [],
   "execution_count": 67
  },
  {
   "metadata": {
    "ExecuteTime": {
     "end_time": "2024-05-31T07:06:38.071374Z",
     "start_time": "2024-05-31T07:06:36.604230Z"
    }
   },
   "cell_type": "code",
   "source": [
    "inertais = []\n",
    "for k in range(2,70):\n",
    "    kmeans = KMeans(n_clusters=k,random_state=42)\n",
    "    kmeans.fit(X_train_preprocessed_fe,y_train)\n",
    "    inertais.append(kmeans.inertia_)\n",
    "print(pd.Series(inertais).diff)"
   ],
   "id": "fa6987f002ed7f75",
   "outputs": [
    {
     "name": "stdout",
     "output_type": "stream",
     "text": [
      "<bound method Series.diff of 0     77968.511262\n",
      "1     71969.840321\n",
      "2     67241.047332\n",
      "3     63861.312871\n",
      "4     60760.584644\n",
      "          ...     \n",
      "63    24887.478422\n",
      "64    25170.421023\n",
      "65    24935.057513\n",
      "66    24560.195129\n",
      "67    24693.546935\n",
      "Length: 68, dtype: float64>\n"
     ]
    }
   ],
   "execution_count": 68
  },
  {
   "metadata": {
    "ExecuteTime": {
     "end_time": "2024-05-31T07:06:39.426163Z",
     "start_time": "2024-05-31T07:06:39.418302Z"
    }
   },
   "cell_type": "code",
   "source": [
    "def get_kmeans_clusters(df):\n",
    "    kmeans = KMeans(n_clusters=6,random_state=42)\n",
    "    kmeans.fit(X_train_preprocessed_fe,y_train)\n",
    "    clusters = kmeans.predict(df)\n",
    "    clusters = np.reshape(clusters,(-1,1))\n",
    "    df_out = np.append(df,clusters,axis=1)\n",
    "    return df_out"
   ],
   "id": "c8f911498851c5aa",
   "outputs": [],
   "execution_count": 69
  },
  {
   "metadata": {
    "ExecuteTime": {
     "end_time": "2024-05-31T07:06:40.983405Z",
     "start_time": "2024-05-31T07:06:40.931489Z"
    }
   },
   "cell_type": "code",
   "source": [
    "X_train_preprocessed_fe_cluster = get_kmeans_clusters(X_train_preprocessed_fe)\n",
    "X_val_preprocessed_fe_cluster = get_kmeans_clusters(X_val_preprocessed_fe)\n",
    "X_full_preprocessed_fe_cluster = get_kmeans_clusters(X_full_preprocessed_fe)"
   ],
   "id": "ffe7363d8ae04ab8",
   "outputs": [],
   "execution_count": 70
  },
  {
   "metadata": {
    "ExecuteTime": {
     "end_time": "2024-05-31T07:18:02.983101Z",
     "start_time": "2024-05-31T07:06:51.016085Z"
    }
   },
   "cell_type": "code",
   "source": [
    "grids = {}\n",
    "for model_name,model in models.items():\n",
    "    grids[model_name] = GridSearchCV(model,param_grids[model_name],cv=cv,n_jobs=-2,scoring='accuracy')\n",
    "    grids[model_name].fit(X_train_preprocessed_fe_cluster,y_train)\n",
    "    print(f\"{model_name} best score : {grids[model_name].best_score_}\")\n",
    "    print(f\"{model_name} best params : {grids[model_name].best_params_}\")"
   ],
   "id": "5ade29577de73750",
   "outputs": [
    {
     "name": "stdout",
     "output_type": "stream",
     "text": [
      "LogisticRegression best score : 0.7976690854361802\n",
      "LogisticRegression best params : {'C': 0.1, 'l1_ratio': 0.4, 'penalty': 'elasticnet'}\n",
      "RandomForest best score : 0.8101791061758788\n",
      "RandomForest best params : {'min_samples_leaf': 6, 'min_samples_split': 2, 'n_estimators': 400}\n"
     ]
    },
    {
     "name": "stderr",
     "output_type": "stream",
     "text": [
      "C:\\Users\\micha\\AppData\\Local\\Programs\\Python\\Python312\\Lib\\site-packages\\sklearn\\ensemble\\_weight_boosting.py:519: FutureWarning: The SAMME.R algorithm (the default) is deprecated and will be removed in 1.6. Use the SAMME algorithm to circumvent this warning.\n",
      "  warnings.warn(\n"
     ]
    },
    {
     "name": "stdout",
     "output_type": "stream",
     "text": [
      "AdaBoost best score : 0.7983879926971436\n",
      "AdaBoost best params : {'learning_rate': 0.1, 'n_estimators': 750}\n",
      "GradientBoosting best score : 0.8100360488029418\n",
      "GradientBoosting best params : {'learning_rate': 0.08, 'max_depth': 5, 'n_estimators': 100}\n",
      "KNN best score : 0.7832888714190401\n",
      "KNN best params : {'n_neighbors': 9}\n",
      "SVC best score : 0.8081664761648625\n",
      "SVC best params : {'C': 1, 'gamma': 'scale'}\n"
     ]
    }
   ],
   "execution_count": 71
  },
  {
   "metadata": {
    "ExecuteTime": {
     "end_time": "2024-05-31T07:25:17.765101Z",
     "start_time": "2024-05-31T07:25:17.754391Z"
    }
   },
   "cell_type": "code",
   "source": [
    "tuned_models = {\n",
    "    \"LogisticRegression\": LogisticRegression(max_iter=10000,solver=\"saga\",C=0.1,l1_ratio=0.4,penalty=\"elasticnet\",random_state=42),\n",
    "    \"RandomForest\":RandomForestClassifier(random_state=42,n_jobs=-2,n_estimators=400,min_samples_leaf=6,min_samples_split=2),    \n",
    "    \"AdaBoost\":AdaBoostClassifier(random_state=42,n_estimators=750,learning_rate=0.1),\n",
    "    \"GradientBoosting\":GradientBoostingClassifier(random_state=42,n_estimators=150,learning_rate=0.08,max_depth=5),\n",
    "    \"KNN\":KNeighborsClassifier(n_neighbors=9),\n",
    "    \"SVC\":SVC(random_state=42,gamma=\"scale\",C=1),\n",
    "    \"StackingClassifier\":StackingClassifier(estimators=[\n",
    "        ('LogisticRegression', LogisticRegression(C=2, l1_ratio=0.8, max_iter=10000, penalty='elasticnet',random_state=42, solver='saga')), ('RandomForest', RandomForestClassifier(min_samples_leaf=4, min_samples_split=10,n_estimators=150, n_jobs=-2, random_state=42)), ('AdaBoost', AdaBoostClassifier(learning_rate=0.05, n_estimators=700, random_state=42)), ('GradientBoosting', GradientBoostingClassifier(learning_rate=0.08, max_depth=5, n_estimators=200,random_state=42)), ('KNN', KNeighborsClassifier(n_neighbors=19)), ('SVC', SVC(C=7, random_state=42))\n",
    "    ],n_jobs=-2),\n",
    "    \"VotingClassifier\":VotingClassifier([\n",
    "        ('SVC', SVC(C=7, random_state=42)) , ('RandomForest',RandomForestClassifier(min_samples_leaf=4, min_samples_split=10,n_estimators=150, n_jobs=-2, random_state=42)), ('GradientBoosting',GradientBoostingClassifier(learning_rate=0.08, max_depth=5,n_estimators=200,random_state=42)),('AdaBoost',AdaBoostClassifier(learning_rate=0.05, n_estimators=700, random_state=42))\n",
    "    ],n_jobs=-2)\n",
    "}"
   ],
   "id": "de45ea951333e821",
   "outputs": [],
   "execution_count": 74
  },
  {
   "metadata": {
    "ExecuteTime": {
     "end_time": "2024-05-31T07:25:53.541135Z",
     "start_time": "2024-05-31T07:25:23.729462Z"
    }
   },
   "cell_type": "code",
   "source": [
    "grids = {}\n",
    "for model_name,model in tuned_models.items():\n",
    "    grids[model_name] = model\n",
    "    grids[model_name].fit(X_train_preprocessed_fe_cluster,y_train)\n",
    "    pred = grids[model_name].predict(X_val_preprocessed_fe_cluster)\n",
    "    print(model_name)\n",
    "    print(confusion_matrix(y_val,pred))\n",
    "    print(classification_report(y_val,pred))"
   ],
   "id": "804ee12dfc6efcf6",
   "outputs": [
    {
     "name": "stdout",
     "output_type": "stream",
     "text": [
      "LogisticRegression\n",
      "[[659 202]\n",
      " [170 708]]\n",
      "              precision    recall  f1-score   support\n",
      "\n",
      "       False       0.79      0.77      0.78       861\n",
      "        True       0.78      0.81      0.79       878\n",
      "\n",
      "    accuracy                           0.79      1739\n",
      "   macro avg       0.79      0.79      0.79      1739\n",
      "weighted avg       0.79      0.79      0.79      1739\n",
      "\n",
      "RandomForest\n",
      "[[688 173]\n",
      " [181 697]]\n",
      "              precision    recall  f1-score   support\n",
      "\n",
      "       False       0.79      0.80      0.80       861\n",
      "        True       0.80      0.79      0.80       878\n",
      "\n",
      "    accuracy                           0.80      1739\n",
      "   macro avg       0.80      0.80      0.80      1739\n",
      "weighted avg       0.80      0.80      0.80      1739\n",
      "\n"
     ]
    },
    {
     "name": "stderr",
     "output_type": "stream",
     "text": [
      "C:\\Users\\micha\\AppData\\Local\\Programs\\Python\\Python312\\Lib\\site-packages\\sklearn\\ensemble\\_weight_boosting.py:519: FutureWarning: The SAMME.R algorithm (the default) is deprecated and will be removed in 1.6. Use the SAMME algorithm to circumvent this warning.\n",
      "  warnings.warn(\n"
     ]
    },
    {
     "name": "stdout",
     "output_type": "stream",
     "text": [
      "AdaBoost\n",
      "[[638 223]\n",
      " [154 724]]\n",
      "              precision    recall  f1-score   support\n",
      "\n",
      "       False       0.81      0.74      0.77       861\n",
      "        True       0.76      0.82      0.79       878\n",
      "\n",
      "    accuracy                           0.78      1739\n",
      "   macro avg       0.79      0.78      0.78      1739\n",
      "weighted avg       0.78      0.78      0.78      1739\n",
      "\n",
      "GradientBoosting\n",
      "[[674 187]\n",
      " [151 727]]\n",
      "              precision    recall  f1-score   support\n",
      "\n",
      "       False       0.82      0.78      0.80       861\n",
      "        True       0.80      0.83      0.81       878\n",
      "\n",
      "    accuracy                           0.81      1739\n",
      "   macro avg       0.81      0.81      0.81      1739\n",
      "weighted avg       0.81      0.81      0.81      1739\n",
      "\n",
      "KNN\n",
      "[[684 177]\n",
      " [223 655]]\n",
      "              precision    recall  f1-score   support\n",
      "\n",
      "       False       0.75      0.79      0.77       861\n",
      "        True       0.79      0.75      0.77       878\n",
      "\n",
      "    accuracy                           0.77      1739\n",
      "   macro avg       0.77      0.77      0.77      1739\n",
      "weighted avg       0.77      0.77      0.77      1739\n",
      "\n",
      "SVC\n",
      "[[672 189]\n",
      " [163 715]]\n",
      "              precision    recall  f1-score   support\n",
      "\n",
      "       False       0.80      0.78      0.79       861\n",
      "        True       0.79      0.81      0.80       878\n",
      "\n",
      "    accuracy                           0.80      1739\n",
      "   macro avg       0.80      0.80      0.80      1739\n",
      "weighted avg       0.80      0.80      0.80      1739\n",
      "\n",
      "StackingClassifier\n",
      "[[675 186]\n",
      " [154 724]]\n",
      "              precision    recall  f1-score   support\n",
      "\n",
      "       False       0.81      0.78      0.80       861\n",
      "        True       0.80      0.82      0.81       878\n",
      "\n",
      "    accuracy                           0.80      1739\n",
      "   macro avg       0.80      0.80      0.80      1739\n",
      "weighted avg       0.80      0.80      0.80      1739\n",
      "\n",
      "VotingClassifier\n",
      "[[703 158]\n",
      " [183 695]]\n",
      "              precision    recall  f1-score   support\n",
      "\n",
      "       False       0.79      0.82      0.80       861\n",
      "        True       0.81      0.79      0.80       878\n",
      "\n",
      "    accuracy                           0.80      1739\n",
      "   macro avg       0.80      0.80      0.80      1739\n",
      "weighted avg       0.80      0.80      0.80      1739\n",
      "\n"
     ]
    }
   ],
   "execution_count": 75
  },
  {
   "metadata": {
    "ExecuteTime": {
     "end_time": "2024-05-31T07:31:48.393917Z",
     "start_time": "2024-05-31T07:31:48.379624Z"
    }
   },
   "cell_type": "code",
   "source": "test_df = pd.read_csv(\"test.csv\")",
   "id": "c16c989dacdb9bd9",
   "outputs": [],
   "execution_count": 85
  },
  {
   "metadata": {
    "ExecuteTime": {
     "end_time": "2024-05-31T07:31:48.697716Z",
     "start_time": "2024-05-31T07:31:48.619074Z"
    }
   },
   "cell_type": "code",
   "source": [
    "test_df_preprocessed_fe = preprocessor_fe.transform(test_df)\n",
    "test_df_preprocessed_fe_cluster =get_kmeans_clusters(test_df_preprocessed_fe)"
   ],
   "id": "f3091cf067260e1",
   "outputs": [],
   "execution_count": 86
  },
  {
   "metadata": {
    "ExecuteTime": {
     "end_time": "2024-05-31T07:31:49.701239Z",
     "start_time": "2024-05-31T07:31:49.697639Z"
    }
   },
   "cell_type": "code",
   "source": [
    "# grids[\"VotingClassifier\"].fit(X_full_preprocessed_fe,y)\n",
    "# test_df[\"Transported\"] = grids[\"VotingClassifier\"].predict(test_df_preprocessed_fe)"
   ],
   "id": "20513270c183bf84",
   "outputs": [],
   "execution_count": 87
  },
  {
   "metadata": {
    "ExecuteTime": {
     "end_time": "2024-05-31T07:31:54.425588Z",
     "start_time": "2024-05-31T07:31:51.247801Z"
    }
   },
   "cell_type": "code",
   "source": [
    "grids[\"GradientBoosting\"].fit(X_full_preprocessed_fe_cluster,y)\n",
    "test_df[\"Transported\"] = grids[\"GradientBoosting\"].predict(test_df_preprocessed_fe_cluster)"
   ],
   "id": "ddc67a09deba9a48",
   "outputs": [],
   "execution_count": 88
  },
  {
   "metadata": {
    "ExecuteTime": {
     "end_time": "2024-05-31T07:31:54.906600Z",
     "start_time": "2024-05-31T07:31:54.898810Z"
    }
   },
   "cell_type": "code",
   "source": "submission = pd.DataFrame(test_df[[\"PassengerId\",\"Transported\"]])",
   "id": "b14d4c277762de33",
   "outputs": [],
   "execution_count": 89
  },
  {
   "metadata": {
    "ExecuteTime": {
     "end_time": "2024-05-31T07:31:56.042443Z",
     "start_time": "2024-05-31T07:31:56.027980Z"
    }
   },
   "cell_type": "code",
   "source": "submission.to_csv(\"XGBoost_clustered_X_full.csv\",index=False)",
   "id": "40f38e7abb8f9cd5",
   "outputs": [],
   "execution_count": 90
  },
  {
   "metadata": {},
   "cell_type": "code",
   "outputs": [],
   "execution_count": null,
   "source": "",
   "id": "f0490b722e4d68cb"
  }
 ],
 "metadata": {
  "kernelspec": {
   "display_name": "Python 3",
   "language": "python",
   "name": "python3"
  },
  "language_info": {
   "codemirror_mode": {
    "name": "ipython",
    "version": 2
   },
   "file_extension": ".py",
   "mimetype": "text/x-python",
   "name": "python",
   "nbconvert_exporter": "python",
   "pygments_lexer": "ipython2",
   "version": "2.7.6"
  }
 },
 "nbformat": 4,
 "nbformat_minor": 5
}
